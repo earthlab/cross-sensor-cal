{
 "cells": [
  {
   "cell_type": "code",
   "execution_count": null,
   "id": "0a2ccae4-3a32-4fcf-9c33-6e203da0fed6",
   "metadata": {},
   "outputs": [],
   "source": [
    "import requests\n",
    "import rasterio\n",
    "import pandas as pd\n",
    "from shapely.geometry import Polygon\n",
    "from pystac_client import Client\n",
    "from planetary_computer import sign\n",
    "\n",
    "# Step 1: Define your AOI Polygon (example coordinates)\n",
    "aoi = Polygon([[-105.1, 39.7], [-105.1, 39.8], [-105.0, 39.8], [-105.0, 39.7]])\n",
    "\n",
    "# Step 2: Define the STAC API endpoint for Planetary Computer\n",
    "stac_api_url = \"https://planetarycomputer.microsoft.com/api/stac/v1\"\n",
    "\n",
    "# Initialize the STAC client\n",
    "client = Client.open(stac_api_url)\n",
    "\n",
    "# Step 3: Search for Landsat data\n",
    "search = client.search(\n",
    "    collections=[\"landsat-8-c2-l2\"],\n",
    "    intersects=aoi,\n",
    "    datetime=\"2021-01-01/2021-12-31\",\n",
    "    limit=1  # Adjust based on your need\n",
    ")\n",
    "\n",
    "# Step 4: Retrieve the items using item_collection()\n",
    "items = search.item_collection()\n",
    "\n",
    "if not items:\n",
    "    print(\"No items found.\")\n",
    "    exit()\n",
    "\n",
    "item = items.items[0]  # Use the first item found\n",
    "\n",
    "# Step 5: Define the bands you want to retrieve\n",
    "bands = [\"SR_B1\", \"SR_B2\", \"SR_B3\", \"SR_B4\", \"SR_B5\", \"SR_B6\", \"SR_B7\"]\n",
    "\n",
    "# Prepare a list to hold the data\n",
    "data = []\n",
    "\n",
    "# Step 6: Loop through each band, read the data, and collect it in the table\n",
    "for band in bands:\n",
    "    if band in item.assets:\n",
    "        asset = item.assets[band]\n",
    "        signed_href = sign(asset.href)  # Sign the URL using Planetary Computer's helper function\n",
    "\n",
    "        # Read the raster data using rasterio\n",
    "        with rasterio.open(signed_href) as src:\n",
    "            band_data = src.read(1).flatten()  # Read and flatten the data to a 1D array\n",
    "            band_labels = [band] * len(band_data)  # Create a list of the band name repeated for each pixel\n",
    "\n",
    "            # Combine the band label and the reflectance values\n",
    "            data.extend(zip(band_labels, band_data))\n",
    "    else:\n",
    "        print(f\"Band {band} not found in the item.\")\n",
    "\n",
    "# Convert the data to a pandas DataFrame\n",
    "df = pd.DataFrame(data, columns=['band', 'Landsat 8'])\n",
    "\n"
   ]
  },
  {
   "cell_type": "code",
   "execution_count": null,
   "id": "8777d4cc-24c4-4dbb-a2e4-2a92461e0b16",
   "metadata": {},
   "outputs": [],
   "source": [
    "# Display the DataFrame\n",
    "\n",
    "import ace_tools as tools\n",
    "tools.display_dataframe_to_user(name=\"Landsat Reflectance Data\", dataframe=df)\n"
   ]
  },
  {
   "cell_type": "code",
   "execution_count": null,
   "id": "25bf97a7-9965-4dce-8271-1aef9d83f962",
   "metadata": {},
   "outputs": [],
   "source": [
    "df.to_csv(\"landsat_reflectance_data.csv\", index=True)"
   ]
  }
 ],
 "metadata": {
  "kernelspec": {
   "display_name": "macrosystems",
   "language": "python",
   "name": "macrosystems"
  },
  "language_info": {
   "codemirror_mode": {
    "name": "ipython",
    "version": 3
   },
   "file_extension": ".py",
   "mimetype": "text/x-python",
   "name": "python",
   "nbconvert_exporter": "python",
   "pygments_lexer": "ipython3",
   "version": "3.10.13"
  }
 },
 "nbformat": 4,
 "nbformat_minor": 5
}
