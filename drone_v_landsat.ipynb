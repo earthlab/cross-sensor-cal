{
 "cells": [
  {
   "cell_type": "code",
   "execution_count": null,
   "id": "5512fe2e-cf07-4171-89a7-487da393b79e",
   "metadata": {},
   "outputs": [],
   "source": [
    "!free -h\n",
    "pd.set_option('display.max_colwidth', None)  # Allow wrapping of long strings\n"
   ]
  },
  {
   "cell_type": "code",
   "execution_count": 11,
   "id": "d7ba0295-216f-4982-9fcc-37f8a2283848",
   "metadata": {},
   "outputs": [],
   "source": [
    "import hytools as ht\n",
    "import matplotlib.pyplot as plt\n",
    "import numpy as np\n",
    "import pandas as pd\n",
    "import random\n",
    "import nbconvert\n",
    "import time\n",
    "\n"
   ]
  },
  {
   "cell_type": "code",
   "execution_count": 12,
   "id": "aa03f3fa-8d70-488b-bc69-2c1315df797c",
   "metadata": {},
   "outputs": [
    {
     "name": "stdout",
     "output_type": "stream",
     "text": [
      "Requirement already satisfied: spectral in /opt/conda/envs/macrosystems/lib/python3.10/site-packages (0.23.1)\n",
      "Requirement already satisfied: numpy in /opt/conda/envs/macrosystems/lib/python3.10/site-packages (from spectral) (1.26.3)\n",
      "Note: you may need to restart the kernel to use updated packages.\n"
     ]
    }
   ],
   "source": [
    "pip install spectral\n"
   ]
  },
  {
   "cell_type": "code",
   "execution_count": 13,
   "id": "f516b0fe-3e8b-4990-975c-144cfef2b562",
   "metadata": {},
   "outputs": [
    {
     "name": "stdout",
     "output_type": "stream",
     "text": [
      "['ENVIProcessor', 'GradientBoostingRegressor', '__builtins__', '__cached__', '__doc__', '__file__', '__loader__', '__name__', '__package__', '__spec__', 'apply_topo_and_brdf_corrections', 'boosted_quantile_plot', 'boosted_quantile_plot_by_sensor', 'box', 'clean_csv_files_in_subfolders', 'clean_data_and_write_to_csv', 'concatenate_sensors', 'control_function', 'download_neon_file', 'download_neon_flight_lines', 'extract_overlapping_layers_to_2d_dataframe', 'find_raster_files', 'fit_models_with_different_alpha', 'flight_lines_to_envi', 'generate_config_json', 'generate_correction_configs', 'generate_correction_configs_for_directory', 'get_spectral_data_and_wavelengths', 'glob', 'go_forth_and_multiply', 'gpd', 'h5py', 'ht', 'jefe', 'json', 'load_and_combine_rasters', 'load_spectra', 'mask', 'np', 'open_image', 'os', 'pd', 'plot_each_sensor_with_highlight', 'plot_spectral_data', 'plot_with_highlighted_sensors', 'plt', 'prepare_spectral_data', 'process_all_subdirectories', 'process_and_flatten_array', 'process_hdf5_with_neon2envi', 'random', 'rasterio', 'rasterize', 'rasterize_polygons_to_match_envi', 'ray', 'requests', 'resample_translation_to_other_sensors', 'reshape_spectra', 'show', 'show_rgb', 'subprocess', 'time', 'tqdm', 'translate_to_other_sensors', 'validate_output_files']\n"
     ]
    }
   ],
   "source": [
    "### Loading Earth Lab Spectral Tools\n",
    "\n",
    "# 1. Enable autoreload in your Jupyter Notebook:\n",
    "\n",
    "%load_ext autoreload\n",
    "%autoreload 2\n",
    "\n",
    "# 2. Import the custom tools module:\n",
    "\n",
    "import spectral_unmixing_tools_original as el_spectral\n",
    "\n",
    "# 3. Verify that the tools loaded correctly by printing the module's directory:\n",
    "\n",
    "print(dir(el_spectral))"
   ]
  },
  {
   "cell_type": "code",
   "execution_count": 7,
   "id": "b334b3d5-dec7-4377-9381-ecd553d0d085",
   "metadata": {},
   "outputs": [
    {
     "name": "stdout",
     "output_type": "stream",
     "text": [
      "Generated jefe script saved to: Next_try/run_jefe_script.py\n"
     ]
    }
   ],
   "source": [
    "import pandas as pd\n",
    "import os\n",
    "\n",
    "# Define the base folder and CSV file path\n",
    "base_folder = \"Next_try\"\n",
    "csv_file_path = 'NEON Flightlines to process.csv'\n",
    "\n",
    "# Load the CSV file\n",
    "df = pd.read_csv(csv_file_path)\n",
    "\n",
    "# Filter rows where the 'note' column does not contain \"provisional\"\n",
    "filtered_df = df[~df['note'].str.contains(\"provisional\", na=False)]\n",
    "\n",
    "# Group flight lines by unique combinations of site_code, product_code, and year_month\n",
    "grouped = filtered_df.groupby(['site_code', 'product_code', 'year_month'])\n",
    "\n",
    "# Create the jefe script\n",
    "jefe_script = [\n",
    "    \"# el jefe takes 3-5 hours to run and it creates a lot of files.\",\n",
    "    \"# You should have 200+GB of RAM and Storage available.\",\n",
    "    f\"base_folder = '{base_folder}'\\n\"\n",
    "]\n",
    "\n",
    "for (site_code, product_code, year_month), group in grouped:\n",
    "    flight_lines = group['flight_line'].tolist()\n",
    "    jefe_script.append(f\"site_code = '{site_code}'\")\n",
    "    jefe_script.append(f\"product_code = '{product_code}'\")\n",
    "    jefe_script.append(f\"year_month = '{year_month}'\")\n",
    "    jefe_script.append(f\"flight_lines = {flight_lines}\")\n",
    "    jefe_script.append(\"el_spectral.jefe(base_folder, site_code, product_code, year_month, flight_lines)\\n\")\n",
    "\n",
    "# Write the script to a Python file\n",
    "script_file_path = os.path.join(base_folder, 'run_jefe_script.py')\n",
    "with open(script_file_path, 'w') as f:\n",
    "    f.write('\\n'.join(jefe_script))\n",
    "\n",
    "print(f\"Generated jefe script saved to: {script_file_path}\")\n"
   ]
  },
  {
   "cell_type": "code",
   "execution_count": null,
   "id": "5cd0bbc1-52a4-4655-99cd-06eac7108192",
   "metadata": {
    "scrolled": true
   },
   "outputs": [
    {
     "name": "stdout",
     "output_type": "stream",
     "text": [
      "Processing flight line: NEON_D13_NIWO_DP1_20200801_161441_reflectance\n",
      "Data retrieved successfully for 2020-08!\n",
      "Downloading NEON_D13_NIWO_DP1_20200801_161441_reflectance.h5 from https://storage.googleapis.com/neon-aop-products/2020/FullSite/D13/2020_NIWO_4/L1/Spectrometer/ReflectanceH5/2020080114/NEON_D13_NIWO_DP1_20200801_161441_reflectance.h5\n",
      "Download completed for NEON_D13_NIWO_DP1_20200801_161441_reflectance.h5\n",
      "Download completed.\n",
      "\n",
      "Processing flight line: NEON_D13_NIWO_DP1_20200720_163210_reflectance\n",
      "Data retrieved successfully for 2020-08!\n",
      "Downloading NEON_D13_NIWO_DP1_20200720_163210_reflectance.h5 from https://storage.googleapis.com/neon-aop-products/2020/FullSite/D13/2020_NIWO_4/L1/Spectrometer/ReflectanceH5/2020072014/NEON_D13_NIWO_DP1_20200720_163210_reflectance.h5\n",
      "Download completed for NEON_D13_NIWO_DP1_20200720_163210_reflectance.h5\n",
      "Download completed.\n",
      "\n",
      "Processing flight line: NEON_D13_NIWO_DP1_20200807_163444_reflectance\n",
      "Data retrieved successfully for 2020-08!\n",
      "Downloading NEON_D13_NIWO_DP1_20200807_163444_reflectance.h5 from https://storage.googleapis.com/neon-aop-products/2020/FullSite/D13/2020_NIWO_4/L1/Spectrometer/ReflectanceH5/2020080714/NEON_D13_NIWO_DP1_20200807_163444_reflectance.h5\n",
      "Download completed for NEON_D13_NIWO_DP1_20200807_163444_reflectance.h5\n",
      "Download completed.\n",
      "\n",
      "Processing flight line: NEON_D13_NIWO_DP1_20200731_155024_reflectance\n",
      "Data retrieved successfully for 2020-08!\n",
      "Downloading NEON_D13_NIWO_DP1_20200731_155024_reflectance.h5 from https://storage.googleapis.com/neon-aop-products/2020/FullSite/D13/2020_NIWO_4/L1/Spectrometer/ReflectanceH5/2020073114/NEON_D13_NIWO_DP1_20200731_155024_reflectance.h5\n",
      "Download completed for NEON_D13_NIWO_DP1_20200731_155024_reflectance.h5\n",
      "Download completed.\n",
      "\n",
      "Processing flight line: NEON_D13_NIWO_DP1_20200807_170802_reflectance\n",
      "Data retrieved successfully for 2020-08!\n",
      "Downloading NEON_D13_NIWO_DP1_20200807_170802_reflectance.h5 from https://storage.googleapis.com/neon-aop-products/2020/FullSite/D13/2020_NIWO_4/L1/Spectrometer/ReflectanceH5/2020080714/NEON_D13_NIWO_DP1_20200807_170802_reflectance.h5\n",
      "Download completed for NEON_D13_NIWO_DP1_20200807_170802_reflectance.h5\n",
      "Download completed.\n",
      "\n",
      "Processing flight line: NEON_D13_NIWO_DP1_20200720_172628_reflectance\n",
      "Data retrieved successfully for 2020-08!\n",
      "Downloading NEON_D13_NIWO_DP1_20200720_172628_reflectance.h5 from https://storage.googleapis.com/neon-aop-products/2020/FullSite/D13/2020_NIWO_4/L1/Spectrometer/ReflectanceH5/2020072014/NEON_D13_NIWO_DP1_20200720_172628_reflectance.h5\n"
     ]
    }
   ],
   "source": [
    "base_folder = 'non_provisional_flightlines'\n",
    "\n",
    "site_code = 'NIWO'\n",
    "product_code = 'DP1.30006.001'\n",
    "year_month = '2020-08'\n",
    "flight_lines = [\n",
    "    'NEON_D13_NIWO_DP1_20200801_161441_reflectance',\n",
    "    'NEON_D13_NIWO_DP1_20200720_163210_reflectance',\n",
    "    'NEON_D13_NIWO_DP1_20200807_163444_reflectance',\n",
    "    'NEON_D13_NIWO_DP1_20200731_155024_reflectance',\n",
    "    'NEON_D13_NIWO_DP1_20200807_170802_reflectance',\n",
    "    'NEON_D13_NIWO_DP1_20200720_172628_reflectance',\n",
    "    'NEON_D13_NIWO_DP1_20200720_180514_reflectance',\n",
    "    'NEON_D13_NIWO_DP1_20200801_162711_reflectance',\n",
    "    'NEON_D13_NIWO_DP1_20200807_155314_reflectance',\n",
    "    'NEON_D13_NIWO_DP1_20200720_172208_reflectance',\n",
    "    'NEON_D13_NIWO_DP1_20200720_162438_reflectance',\n",
    "    'NEON_D13_NIWO_DP1_20200720_175213_reflectance',\n",
    "    'NEON_D13_NIWO_DP1_20200801_153959_reflectance',\n",
    "    'NEON_D13_NIWO_DP1_20200720_160855_reflectance',\n",
    "    'NEON_D13_NIWO_DP1_20200801_152930_reflectance',\n",
    "    'NEON_D13_NIWO_DP1_20200720_181208_reflectance',\n",
    "    'NEON_D13_NIWO_DP1_20200807_154502_reflectance',\n",
    "    'NEON_D13_NIWO_DP1_20200720_155401_reflectance',\n",
    "    'NEON_D13_NIWO_DP1_20200720_175809_reflectance',\n",
    "    'NEON_D13_NIWO_DP1_20200720_163955_reflectance',\n",
    "    'NEON_D13_NIWO_DP1_20200720_174206_reflectance',\n",
    "    'NEON_D13_NIWO_DP1_20200807_172100_reflectance',\n",
    "    'NEON_D13_NIWO_DP1_20200720_173638_reflectance',\n",
    "    'NEON_D13_NIWO_DP1_20200720_154719_reflectance',\n",
    "    'NEON_D13_NIWO_DP1_20200720_171113_reflectance',\n",
    "    'NEON_D13_NIWO_DP1_20200720_171552_reflectance',\n",
    "    'NEON_D13_NIWO_DP1_20200720_174713_reflectance',\n",
    "    'NEON_D13_NIWO_DP1_20200807_170127_reflectance',\n",
    "    'NEON_D13_NIWO_DP1_20200807_171424_reflectance',\n",
    "    'NEON_D13_NIWO_DP1_20200807_164808_reflectance',\n",
    "    'NEON_D13_NIWO_DP1_20200807_162829_reflectance',\n",
    "    'NEON_D13_NIWO_DP1_20200807_165500_reflectance',\n",
    "    'NEON_D13_NIWO_DP1_20200720_173121_reflectance',\n",
    "    'NEON_D13_NIWO_DP1_20200807_164154_reflectance',\n",
    "    'NEON_D13_NIWO_DP1_20200720_161640_reflectance',\n",
    "    'NEON_D13_NIWO_DP1_20200720_165934_reflectance',\n",
    "    'NEON_D13_NIWO_DP1_20200807_162134_reflectance',\n",
    "    'NEON_D13_NIWO_DP1_20200731_151902_reflectance',\n",
    "    'NEON_D13_NIWO_DP1_20200801_160156_reflectance',\n",
    "    'NEON_D13_NIWO_DP1_20200731_154336_reflectance',\n",
    "    'NEON_D13_NIWO_DP1_20200801_163340_reflectance',\n",
    "    'NEON_D13_NIWO_DP1_20200801_160814_reflectance',\n",
    "    'NEON_D13_NIWO_DP1_20200801_162052_reflectance',\n",
    "    'NEON_D13_NIWO_DP1_20200720_165434_reflectance',\n",
    "    'NEON_D13_NIWO_DP1_20200720_160107_reflectance',\n",
    "    'NEON_D13_NIWO_DP1_20200801_154719_reflectance',\n",
    "    'NEON_D13_NIWO_DP1_20200720_170523_reflectance',\n",
    "    'NEON_D13_NIWO_DP1_20200807_161351_reflectance',\n",
    "    'NEON_D13_NIWO_DP1_20200731_155646_reflectance',\n",
    "    'NEON_D13_NIWO_DP1_20200807_160118_reflectance',\n",
    "    'NEON_D13_NIWO_DP1_20200731_153721_reflectance',\n",
    "    'NEON_D13_NIWO_DP1_20200807_160712_reflectance',\n",
    "    'NEON_D13_NIWO_DP1_20200720_164656_reflectance',\n",
    "    'NEON_D13_NIWO_DP1_20200720_181654_reflectance',\n",
    "    'NEON_D13_NIWO_DP1_20200801_155424_reflectance',\n",
    "    'NEON_D13_NIWO_DP1_20200720_154017_reflectance'\n",
    "]\n",
    "\n",
    "# Run the jefe function with the formatted flight lines\n",
    "el_spectral.jefe(base_folder, site_code, product_code, year_month, flight_lines)\n"
   ]
  }
 ],
 "metadata": {
  "kernelspec": {
   "display_name": "macrosystems",
   "language": "python",
   "name": "macrosystems"
  },
  "language_info": {
   "codemirror_mode": {
    "name": "ipython",
    "version": 3
   },
   "file_extension": ".py",
   "mimetype": "text/x-python",
   "name": "python",
   "nbconvert_exporter": "python",
   "pygments_lexer": "ipython3",
   "version": "3.10.13"
  }
 },
 "nbformat": 4,
 "nbformat_minor": 5
}
