{
 "cells": [
  {
   "cell_type": "code",
   "execution_count": 7,
   "id": "bd279041-452e-4518-ad1e-0543960307fc",
   "metadata": {},
   "outputs": [
    {
     "data": {
      "text/plain": [
       "class       : SpatRaster \n",
       "dimensions  : 6479, 1119, 426  (nrow, ncol, nlyr)\n",
       "resolution  : 1, 1  (x, y)\n",
       "extent      : 444373, 445492, 4430386, 4436865  (xmin, xmax, ymin, ymax)\n",
       "coord. ref. : WGS 84 / UTM zone 13N (EPSG:32613) \n",
       "source      : original.tif \n",
       "names       : 381.2~eters, 386.2~eters, 391.2~eters, 396.2~eters, 401.3~eters, 406.3~eters, ... "
      ]
     },
     "metadata": {},
     "output_type": "display_data"
    }
   ],
   "source": [
    "library(terra)\n",
    "library(ggplot2)\n",
    "library(dplyr)\n",
    "\n",
    "\n",
    "DSM_HARV <-\n",
    "  rast(\"original.tif\")\n",
    "\n",
    "DSM_HARV\n",
    "\n",
    "\n",
    "\n"
   ]
  },
  {
   "cell_type": "code",
   "execution_count": 8,
   "id": "ea4ce1a1-794d-44e2-adea-b910befc3ca4",
   "metadata": {},
   "outputs": [
    {
     "data": {
      "text/plain": [
       "class       : SpatRaster \n",
       "dimensions  : 6479, 1119, 426  (nrow, ncol, nlyr)\n",
       "resolution  : 1, 1  (x, y)\n",
       "extent      : 444373, 445492, 4430386, 4436865  (xmin, xmax, ymin, ymax)\n",
       "coord. ref. : WGS 84 / UTM zone 13N (EPSG:32613) \n",
       "source      : corrected.tif \n",
       "names       : 381.2~eters, 386.2~eters, 391.2~eters, 396.2~eters, 401.3~eters, 406.3~eters, ... "
      ]
     },
     "metadata": {},
     "output_type": "display_data"
    }
   ],
   "source": [
    "library(terra)\n",
    "library(ggplot2)\n",
    "library(dplyr)\n",
    "\n",
    "\n",
    "DSM_HARV2 <-\n",
    "  rast(\"corrected.tif\")\n",
    "\n",
    "DSM_HARV2"
   ]
  },
  {
   "cell_type": "code",
   "execution_count": 9,
   "id": "7bb88268-5215-47c6-8c62-60c8de97777d",
   "metadata": {},
   "outputs": [
    {
     "data": {
      "text/plain": [
       "class       : SpatRaster \n",
       "dimensions  : 6479, 1119, 426  (nrow, ncol, nlyr)\n",
       "resolution  : 1, 1  (x, y)\n",
       "extent      : 444373, 445492, 4430386, 4436865  (xmin, xmax, ymin, ymax)\n",
       "coord. ref. : WGS 84 / UTM zone 13N (EPSG:32613) \n",
       "source(s)   : memory\n",
       "varname     : corrected \n",
       "names       : 381.2~eters, 386.2~eters, 391.2~eters, 396.2~eters, 401.3~eters, 406.3~eters, ... \n",
       "min values  :           0,           0,           0,           0,   -394.5037,   -384.2115, ... \n",
       "max values  :           0,           0,           0,           0,    612.5000,    552.3645, ... "
      ]
     },
     "metadata": {},
     "output_type": "display_data"
    }
   ],
   "source": [
    "DSM_HARV2 - DSM_HARV\n"
   ]
  }
 ],
 "metadata": {
  "kernelspec": {
   "display_name": "R",
   "language": "R",
   "name": "ir"
  },
  "language_info": {
   "codemirror_mode": "r",
   "file_extension": ".r",
   "mimetype": "text/x-r-source",
   "name": "R",
   "pygments_lexer": "r",
   "version": "4.2.3"
  }
 },
 "nbformat": 4,
 "nbformat_minor": 5
}
