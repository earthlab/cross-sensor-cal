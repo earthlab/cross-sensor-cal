{
 "cells": [
  {
   "cell_type": "code",
   "execution_count": null,
   "id": "7e2a0910-4af0-479c-a6c4-de72c4ac8dc1",
   "metadata": {},
   "outputs": [],
   "source": [
    "import csv\n",
    "\n",
    "base_path = \"/home/jovyan/data-store/\"\n",
    "relative_path = \"home/shared/earthlab/macrosystems/cross-sensor-cal/sorted_files/csv/masked/Reflectance__ENVI/NEON_D10_RMNP_DP1_20200701_153414_reflectance__envi.csv\"\n",
    "full_path = base_path + relative_path\n",
    "\n",
    "with open(full_path, 'r') as f:\n",
    "    reader = csv.reader(f)\n",
    "    \n",
    "    # Get number of columns from the header\n",
    "    header = next(reader)\n",
    "    num_columns = len(header)\n",
    "    \n",
    "    # Count the rest of the lines for rows\n",
    "    num_rows = sum(1 for _ in reader)\n",
    "\n",
    "print(f\"Number of rows: {num_rows}\")\n",
    "print(f\"Number of columns: {num_columns}\")\n"
   ]
  }
 ],
 "metadata": {
  "kernelspec": {
   "display_name": "macrosystems",
   "language": "python",
   "name": "macrosystems"
  },
  "language_info": {
   "codemirror_mode": {
    "name": "ipython",
    "version": 3
   },
   "file_extension": ".py",
   "mimetype": "text/x-python",
   "name": "python",
   "nbconvert_exporter": "python",
   "pygments_lexer": "ipython3",
   "version": "3.10.13"
  }
 },
 "nbformat": 4,
 "nbformat_minor": 5
}
