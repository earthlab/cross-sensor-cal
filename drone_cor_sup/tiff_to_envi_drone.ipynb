{
 "cells": [
  {
   "cell_type": "code",
   "execution_count": 79,
   "id": "2b4f9cd7-bfdd-43a2-8b9d-834c43bdec5a",
   "metadata": {},
   "outputs": [],
   "source": [
    "from osgeo import gdal\n",
    "import re\n",
    "from typing import Union\n",
    "import h5py\n",
    "import numpy as np\n",
    "import os\n",
    "\n",
    "\n",
    "wavelengths = [\n",
    "    444,\n",
    "    475,\n",
    "    531,\n",
    "    560,\n",
    "    650,\n",
    "    668,\n",
    "    705,\n",
    "    717,\n",
    "    740,\n",
    "    862\n",
    "]  # In nm, each index corresponds to each band\n",
    "\n",
    "\n",
    "fwhm = [\n",
    "    28,\n",
    "    32,\n",
    "    14,\n",
    "    27,\n",
    "    16,\n",
    "    14,\n",
    "    10,\n",
    "    12,\n",
    "    18,\n",
    "    57\n",
    "]\n",
    "\n",
    "\n",
    "def create_h5_file_from_dict(data, h5_file, group_name=\"/\"):\n",
    "    \"\"\"\n",
    "    Recursively create groups and datasets in an HDF5 file from a dictionary.\n",
    "\n",
    "    Parameters:\n",
    "        data (dict): Input dictionary.\n",
    "        h5_file (h5py.File): HDF5 file object.\n",
    "        group_name (str): Name of the current group (default: \"/\").\n",
    "    \"\"\"\n",
    "    for key, value in data.items():\n",
    "        # If the value is a dictionary, create a group\n",
    "        if isinstance(value, dict):\n",
    "            subgroup_name = f\"{group_name}/{key}\"\n",
    "            _ = h5_file.create_group(subgroup_name)\n",
    "            create_h5_file_from_dict(value, h5_file, subgroup_name)\n",
    "        # If the value is not a dictionary, create a dataset\n",
    "        else:\n",
    "            dataset_name = f\"{group_name}/{key}\"\n",
    "            if os.path.basename(group_name) == 'Coordinate_System':\n",
    "                # Convert value to string before saving\n",
    "                dataset = h5_file.create_dataset(dataset_name, data=str(value), dtype=h5py.string_dtype())\n",
    "            else:\n",
    "                dataset = h5_file.create_dataset(dataset_name, data=value)\n",
    "\n",
    "            if key in ['Wavelength', 'FWHM']:\n",
    "                dataset.attrs['Units'] = 'nanometers'\n",
    "\n",
    "\n",
    "def remove_non_numeric(input_string):\n",
    "    # Use regex to replace non-numeric characters with an empty string\n",
    "    return re.sub(r'\\D', '', input_string)\n",
    "\n",
    "\n",
    "def tiff_to_h5(reflectance_tiff_path: str, slope_data: Union[str, np.array],\n",
    "               aspect_data: Union[str, np.array], sensor_zenith_data: Union[str, np.array],\n",
    "               sensor_azimuth_data: Union[str, np.array], solar_zenith: float, solar_azimuth: float):\n",
    "\n",
    "    reflectance = gdal.Open(reflectance_tiff_path)\n",
    "\n",
    "    if isinstance(slope_data, str):\n",
    "        slope_data = gdal.Open(slope_data).ReadAsArray()\n",
    "    if isinstance(aspect_data, str):\n",
    "        aspect_data = gdal.Open(aspect_data).ReadAsArray()\n",
    "    if isinstance(sensor_azimuth_data, str):\n",
    "        sensor_zenith_data = gdal.Open(sensor_zenith_data).ReadAsArray()\n",
    "    if isinstance(sensor_azimuth_data, str):\n",
    "        sensor_azimuth_data = gdal.Open(sensor_azimuth_data)\n",
    "\n",
    "    proj = reflectance.GetProjection()\n",
    "    geo_transform = reflectance.GetGeoTransform()\n",
    "\n",
    "    spatial_ref = gdal.osr.SpatialReference()\n",
    "    spatial_ref.ImportFromWkt(proj)\n",
    "    epsg_code = spatial_ref.GetAuthorityCode(None)\n",
    "    utm_zone = int(remove_non_numeric(proj.split(\"UTM zone \")[1].split(\",\")[0]))\n",
    "    map_info_string = f\"UTM, 1.000, 1.000, {geo_transform[0]:.3f}, {geo_transform[3]:.3f}, {geo_transform[1]:.3f}, {geo_transform[5]:.3f}, {utm_zone}, North, WGS-84, units=Meters, 0\",\n",
    "\n",
    "    h5_data = {\n",
    "        'NIWO': {\n",
    "            'Reflectance': {\n",
    "                'Metadata': {\n",
    "                    'Coordinate_System': {\n",
    "                        'Coordinate_System_String': proj,\n",
    "                        'EPSG Code': epsg_code,\n",
    "                        'Map_Info': map_info_string,\n",
    "                        'Proj4': spatial_ref.ExportToProj4()\n",
    "                    },\n",
    "                    # below I chnaged path length from np.zeros to np.ones()\n",
    "                    \"Ancillary_Imagery/Path_Length\": np.ones(reflectance.ReadAsArray().shape[1:]),\n",
    "                    \"to-sensor_Azimuth_Angle\": sensor_azimuth_data,\n",
    "                    \"to-sensor_Zenith_Angle\": sensor_zenith_data,\n",
    "                    \"Logs/Solar_Azimuth_Angle\": solar_azimuth,\n",
    "                    \"Logs/Solar_Zenith_Angle\": solar_zenith,\n",
    "                    \"Ancillary_Imagery/Slope\": slope_data,\n",
    "                    \"Ancillary_Imagery/Aspect\": aspect_data,\n",
    "                    \"Spectral_Data\": {\n",
    "                        'FWHM': fwhm,\n",
    "                        'Wavelength': wavelengths\n",
    "                    }\n",
    "                },\n",
    "                'Reflectance_Data': np.transpose(reflectance.ReadAsArray()[:10, :, :], axes=(1, 2, 0))\n",
    "            }\n",
    "        }\n",
    "    }\n",
    "\n",
    "    with h5py.File('NEON_D13_NIWO_test' + os.path.basename(reflectance_tiff_path).replace('.tif', '.h5'), \"w\") as hdf_file:\n",
    "        create_h5_file_from_dict(h5_data, hdf_file)"
   ]
  },
  {
   "cell_type": "code",
   "execution_count": 80,
   "id": "bbbc1227-3507-4622-9df6-8d696b215dad",
   "metadata": {},
   "outputs": [
    {
     "name": "stdout",
     "output_type": "stream",
     "text": [
      "Band1 has shape (1018, 672)\n",
      "eastings shape (1018, 672)\n"
     ]
    },
    {
     "name": "stderr",
     "output_type": "stream",
     "text": [
      "/tmp/ipykernel_536/3404857961.py:33: FutureWarning: This function is deprecated. See: https://pyproj4.github.io/pyproj/stable/gotchas.html#upgrading-to-pyproj-2-from-pyproj-1\n",
      "  lons, lats = transform(p1, p2, eastings, northings)\n"
     ]
    }
   ],
   "source": [
    "import ephem\n",
    "import rasterio\n",
    "import numpy as np\n",
    "from rasterio import Affine as A\n",
    "from rasterio.warp import reproject, Resampling\n",
    "import h5py\n",
    "import matplotlib.pyplot as plt\n",
    "import numpy as np\n",
    "import pandas as pd\n",
    "# from osgeo import gdal\n",
    "import seaborn as sns\n",
    "import rasterio\n",
    "from pyproj import Proj, transform\n",
    "from rasterio.transform import from_origin\n",
    "import ephem\n",
    "import datetime\n",
    "import math\n",
    "import warnings\n",
    "\n",
    "def pixel_to_coord(file_path):\n",
    "     with rasterio.open(file_path) as src:\n",
    "            band1 = src.read(1)\n",
    "            print('Band1 has shape', band1.shape)\n",
    "            height = band1.shape[0]\n",
    "            width = band1.shape[1]\n",
    "            cols, rows = np.meshgrid(np.arange(width), np.arange(height))\n",
    "            xs, ys = rasterio.transform.xy(src.transform, rows, cols)\n",
    "            eastings= np.array(xs)\n",
    "            northings = np.array(ys)\n",
    "            print('eastings shape', eastings.shape)\n",
    "            p1 = Proj(src.crs)\n",
    "            p2 = Proj(proj='latlong', datum='WGS84')\n",
    "            lons, lats = transform(p1, p2, eastings, northings)\n",
    "     return lons, lats, cols, rows,\n",
    "\n",
    "\n",
    "file_path = r'/home/jovyan/data-store/cross-sensor-cal/data_set2/aligned_orthomosaic.tif'\n",
    "longitudes, latitudes, cols, rows = pixel_to_coord(file_path)\n",
    "\n",
    "# # # Function to convert lat/lon to row/col\n",
    "# # def latlon_to_rowcol(transform, lat, lon):\n",
    "# #     col, row = ~transform * (lon, lat)\n",
    "# #     return int(row), int(col)\n",
    "\n",
    "# Convert the date and time to UTC. The time given is 2:34 PM, which is 14:34 in 24-hour format\n",
    "date_time_str = '2023-08-01 14:34:00'\n",
    "\n",
    "\n",
    "with rasterio.open(file_path) as src:\n",
    "    # Get the affine transform for the raster\n",
    "    transform = src.transform\n",
    "    \n",
    "    # Create arrays to hold the azimuth and zenith values\n",
    "    azimuth = np.zeros((src.height, src.width), dtype=np.float32)\n",
    "    zenith = np.zeros((src.height, src.width), dtype=np.float32)\n",
    "    \n",
    "    # Assume a date and time for the Sun position calculation\n",
    "    observer = ephem.Observer()\n",
    "    observer.date = ephem.date(date_time_str)\n",
    "    \n",
    "    # Iterate over each pixel in the raster\n",
    "    for row in range(latitudes.shape[0]):\n",
    "        for col in range(latitudes.shape[1]):\n",
    "            #lon, lat = pixel_to_coord(transform, row, col)\n",
    "            observer.lat, observer.lon = latitudes[row,col], longitudes[row,col]\n",
    "            \n",
    "            sun = ephem.Sun(observer)\n",
    "            \n",
    "            # Convert azimuth and altitude (zenith angle is 90 - altitude) to degrees\n",
    "            #az = np.degrees(sun.az)\n",
    "            az = sun.az\n",
    "            alt = np.degrees(sun.alt)\n",
    "            zen = 90 - sun.alt\n",
    "            \n",
    "            azimuth[row, col] = az\n",
    "            zenith[row, col] = zen\n",
    "\n",
    "\n",
    "\n",
    "# with rasterio.open(file_path) as src:\n",
    "#     # Get the affine transform for the raster\n",
    "#     transform = src.transform\n",
    "    \n",
    "#     # Create arrays to hold the azimuth and zenith values\n",
    "#     azimuth = np.zeros((src.height, src.width), dtype=np.float32)\n",
    "#     zenith = np.zeros((src.height, src.width), dtype=np.float32)\n",
    "    \n",
    "#     # Assume a date and time for the Sun position calculation\n",
    "#     observer = ephem.Observer()\n",
    "#     observer.date = ephem.date(date_time_str)\n",
    "    \n",
    "#     # Iterate over each pixel in the raster\n",
    "#     for row in range(src.height):\n",
    "#         for col in range(src.width):\n",
    "#             #lon, lat = pixel_to_coord(transform, row, col)\n",
    "#             observer.lat, observer.lon = str(lat), str(lon)\n",
    "            \n",
    "#             sun = ephem.Sun(observer)\n",
    "            \n",
    "#             # Convert azimuth and altitude (zenith angle is 90 - altitude) to degrees\n",
    "#             az = np.degrees(sun.az)\n",
    "#             alt = np.degrees(sun.alt)\n",
    "#             zen = 90 - alt\n",
    "            \n",
    "#             azimuth[row, col] = az\n",
    "#             zenith[row, col] = zen"
   ]
  },
  {
   "cell_type": "code",
   "execution_count": 83,
   "id": "7777f319-09b7-44d2-851f-ebdb0ded5668",
   "metadata": {},
   "outputs": [
    {
     "data": {
      "text/plain": [
       "array([[-105.54106897, -105.54106604, -105.5410631 , ..., -105.53910866,\n",
       "        -105.53910573, -105.5391028 ],\n",
       "       [-105.54106895, -105.54106602, -105.54106309, ..., -105.53910864,\n",
       "        -105.53910571, -105.53910278],\n",
       "       [-105.54106893, -105.541066  , -105.54106307, ..., -105.53910862,\n",
       "        -105.53910569, -105.53910276],\n",
       "       ...,\n",
       "       [-105.5410509 , -105.54104797, -105.54104504, ..., -105.53909066,\n",
       "        -105.53908773, -105.5390848 ],\n",
       "       [-105.54105088, -105.54104795, -105.54104502, ..., -105.53909064,\n",
       "        -105.53908771, -105.53908478],\n",
       "       [-105.54105086, -105.54104793, -105.541045  , ..., -105.53909062,\n",
       "        -105.53908769, -105.53908476]])"
      ]
     },
     "execution_count": 83,
     "metadata": {},
     "output_type": "execute_result"
    }
   ],
   "source": [
    "longitudes"
   ]
  },
  {
   "cell_type": "code",
   "execution_count": 84,
   "id": "00907592-98e1-4a34-a535-dd222de64e33",
   "metadata": {},
   "outputs": [
    {
     "data": {
      "text/plain": [
       "array([[40.03632017, 40.03632018, 40.0363202 , ..., 40.03632931,\n",
       "        40.03632932, 40.03632934],\n",
       "       [40.03631792, 40.03631793, 40.03631795, ..., 40.03632706,\n",
       "        40.03632707, 40.03632708],\n",
       "       [40.03631567, 40.03631568, 40.03631569, ..., 40.0363248 ,\n",
       "        40.03632482, 40.03632483],\n",
       "       ...,\n",
       "       [40.03403405, 40.03403406, 40.03403408, ..., 40.03404319,\n",
       "        40.0340432 , 40.03404321],\n",
       "       [40.0340318 , 40.03403181, 40.03403182, ..., 40.03404093,\n",
       "        40.03404095, 40.03404096],\n",
       "       [40.03402955, 40.03402956, 40.03402957, ..., 40.03403868,\n",
       "        40.0340387 , 40.03403871]])"
      ]
     },
     "execution_count": 84,
     "metadata": {},
     "output_type": "execute_result"
    }
   ],
   "source": [
    "latitudes"
   ]
  },
  {
   "cell_type": "code",
   "execution_count": 85,
   "id": "b8461cda-a5c2-4730-ab40-68e618aa32ed",
   "metadata": {},
   "outputs": [
    {
     "data": {
      "text/plain": [
       "array([[5.0587783, 5.058781 , 5.0587845, ..., 5.0607386, 5.060742 ,\n",
       "        5.060745 ],\n",
       "       [5.0587783, 5.0587816, 5.0587845, ..., 5.0607386, 5.060742 ,\n",
       "        5.060745 ],\n",
       "       [5.0587783, 5.0587816, 5.0587845, ..., 5.060739 , 5.060742 ,\n",
       "        5.060745 ],\n",
       "       ...,\n",
       "       [5.0587964, 5.0587997, 5.0588026, ..., 5.0607567, 5.0607595,\n",
       "        5.060763 ],\n",
       "       [5.0587964, 5.0587997, 5.0588026, ..., 5.0607567, 5.06076  ,\n",
       "        5.060763 ],\n",
       "       [5.0587964, 5.0587997, 5.0588026, ..., 5.0607567, 5.06076  ,\n",
       "        5.060763 ]], dtype=float32)"
      ]
     },
     "execution_count": 85,
     "metadata": {},
     "output_type": "execute_result"
    }
   ],
   "source": [
    "azimuth"
   ]
  },
  {
   "cell_type": "code",
   "execution_count": 86,
   "id": "26ee4839-b453-485a-a3a2-dfcc24bc1739",
   "metadata": {},
   "outputs": [
    {
     "data": {
      "text/plain": [
       "array([[89.53681 , 89.536804, 89.536804, ..., 89.53545 , 89.535446,\n",
       "        89.535446],\n",
       "       [89.53681 , 89.536804, 89.536804, ..., 89.53545 , 89.535446,\n",
       "        89.535446],\n",
       "       [89.53681 , 89.536804, 89.536804, ..., 89.53545 , 89.535446,\n",
       "        89.535446],\n",
       "       ...,\n",
       "       [89.53684 , 89.53684 , 89.53684 , ..., 89.53549 , 89.53549 ,\n",
       "        89.535484],\n",
       "       [89.53684 , 89.53684 , 89.53684 , ..., 89.53549 , 89.53549 ,\n",
       "        89.535484],\n",
       "       [89.53684 , 89.53684 , 89.53684 , ..., 89.53549 , 89.53549 ,\n",
       "        89.535484]], dtype=float32)"
      ]
     },
     "execution_count": 86,
     "metadata": {},
     "output_type": "execute_result"
    }
   ],
   "source": [
    "zenith"
   ]
  },
  {
   "cell_type": "code",
   "execution_count": 71,
   "id": "aa98428a-e564-4138-a38f-9f4eac5eef4e",
   "metadata": {},
   "outputs": [
    {
     "data": {
      "text/plain": [
       "40.03517944314455"
      ]
     },
     "execution_count": 71,
     "metadata": {},
     "output_type": "execute_result"
    }
   ],
   "source": [
    "np.mean(latitudes)"
   ]
  },
  {
   "cell_type": "code",
   "execution_count": 72,
   "id": "bdc6de7d-aeec-4e4a-be85-a9c1c38878ba",
   "metadata": {},
   "outputs": [
    {
     "data": {
      "text/plain": [
       "-105.54007684654168"
      ]
     },
     "execution_count": 72,
     "metadata": {},
     "output_type": "execute_result"
    }
   ],
   "source": [
    "np.mean(longitudes)"
   ]
  },
  {
   "cell_type": "code",
   "execution_count": 89,
   "id": "7b9cf0f2-0618-4a62-991c-3f2f5945bc92",
   "metadata": {},
   "outputs": [
    {
     "name": "stdout",
     "output_type": "stream",
     "text": [
      "6\n"
     ]
    }
   ],
   "source": [
    "tiff_to_h5('/home/jovyan/data-store/cross-sensor-cal/data_set2/aligned_orthomosaic.tif', '/home/jovyan/data-store/cross-sensor-cal/data_set2/slope_smooth_slope.tif', '/home/jovyan/data-store/cross-sensor-cal/data_set2/aspect_smooth_aspect.tif', zenith, azimuth, solar_zenith=zenith, solar_azimuth=azimuth)\n",
    "print(\"6\")"
   ]
  },
  {
   "cell_type": "code",
   "execution_count": 88,
   "id": "6048734f-6450-4b7a-9e1b-1a056cdec7b9",
   "metadata": {},
   "outputs": [
    {
     "data": {
      "text/plain": [
       "array([[5.0587783, 5.058781 , 5.0587845, ..., 5.0607386, 5.060742 ,\n",
       "        5.060745 ],\n",
       "       [5.0587783, 5.0587816, 5.0587845, ..., 5.0607386, 5.060742 ,\n",
       "        5.060745 ],\n",
       "       [5.0587783, 5.0587816, 5.0587845, ..., 5.060739 , 5.060742 ,\n",
       "        5.060745 ],\n",
       "       ...,\n",
       "       [5.0587964, 5.0587997, 5.0588026, ..., 5.0607567, 5.0607595,\n",
       "        5.060763 ],\n",
       "       [5.0587964, 5.0587997, 5.0588026, ..., 5.0607567, 5.06076  ,\n",
       "        5.060763 ],\n",
       "       [5.0587964, 5.0587997, 5.0588026, ..., 5.0607567, 5.06076  ,\n",
       "        5.060763 ]], dtype=float32)"
      ]
     },
     "execution_count": 88,
     "metadata": {},
     "output_type": "execute_result"
    }
   ],
   "source": [
    "azimuth"
   ]
  },
  {
   "cell_type": "code",
   "execution_count": 77,
   "id": "efc99d4e-6e62-4da4-b793-eab810e17f68",
   "metadata": {},
   "outputs": [
    {
     "name": "stdout",
     "output_type": "stream",
     "text": [
      "Solar Zenith Angle: 88.90°\n",
      "Solar Azimuth Angle: 287.69°\n"
     ]
    }
   ],
   "source": [
    "from math import sin, cos, radians, degrees, acos, asin\n",
    "\n",
    "# Input parameters\n",
    "latitude = 40.03505796360895  # degrees\n",
    "longitude = -105.53999928775333  # degrees\n",
    "day_of_year = 226  # example: June 21\n",
    "local_time = 14.24  # noon in hours\n",
    "timezone_offset = -7  # UTC offset for PDT\n",
    "\n",
    "# Solar declination\n",
    "declination = -23.44 * cos(radians(360 * (day_of_year + 10) / 365))\n",
    "\n",
    "# Equation of Time (EoT)\n",
    "eot = 7.5 * sin(radians(360 * (day_of_year - 81) / 365))\n",
    "\n",
    "# Local Solar Time (LST)\n",
    "lst = local_time + (longitude / 15) + eot - timezone_offset\n",
    "\n",
    "# Hour Angle (H)\n",
    "hour_angle = 15 * (lst - 12)\n",
    "\n",
    "# Solar Zenith Angle\n",
    "cos_zenith = (sin(radians(latitude)) * sin(radians(declination)) +\n",
    "              cos(radians(latitude)) * cos(radians(declination)) * cos(radians(hour_angle)))\n",
    "zenith = degrees(acos(cos_zenith))\n",
    "\n",
    "# Solar Azimuth Angle\n",
    "cos_azimuth = (sin(radians(declination)) - sin(radians(latitude)) * cos(radians(zenith))) / \\\n",
    "              (cos(radians(latitude)) * sin(radians(zenith)))\n",
    "azimuth = degrees(acos(cos_azimuth))\n",
    "\n",
    "# Adjust azimuth depending on hour angle\n",
    "if hour_angle > 0:\n",
    "    azimuth = 360 - azimuth\n",
    "\n",
    "print(f\"Solar Zenith Angle: {zenith:.2f}°\")\n",
    "print(f\"Solar Azimuth Angle: {azimuth:.2f}°\")\n"
   ]
  },
  {
   "cell_type": "code",
   "execution_count": 76,
   "id": "c216fac5-b80c-44ba-b3e4-93aff648a025",
   "metadata": {},
   "outputs": [
    {
     "data": {
      "text/plain": [
       "88.89764248672688"
      ]
     },
     "execution_count": 76,
     "metadata": {},
     "output_type": "execute_result"
    }
   ],
   "source": [
    "zenith\n"
   ]
  },
  {
   "cell_type": "code",
   "execution_count": null,
   "id": "6efc5148-fcdd-4d79-87e4-f73b8aa96b85",
   "metadata": {},
   "outputs": [],
   "source": []
  },
  {
   "cell_type": "code",
   "execution_count": null,
   "id": "5bcadcde-f5ab-499f-acaf-ef20bf4204d2",
   "metadata": {},
   "outputs": [],
   "source": [
    "NEON_D13_NIWO_ortho_mrs2.h5"
   ]
  }
 ],
 "metadata": {
  "kernelspec": {
   "display_name": "macrosystems",
   "language": "python",
   "name": "macrosystems"
  },
  "language_info": {
   "codemirror_mode": {
    "name": "ipython",
    "version": 3
   },
   "file_extension": ".py",
   "mimetype": "text/x-python",
   "name": "python",
   "nbconvert_exporter": "python",
   "pygments_lexer": "ipython3",
   "version": "3.10.13"
  }
 },
 "nbformat": 4,
 "nbformat_minor": 5
}
