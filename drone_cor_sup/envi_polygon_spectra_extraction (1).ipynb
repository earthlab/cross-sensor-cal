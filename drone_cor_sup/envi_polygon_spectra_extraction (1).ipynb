{
 "cells": [
  {
   "cell_type": "markdown",
   "id": "f243a243",
   "metadata": {},
   "source": [
    "# Extract Polygon Spectra from ENVI Files in Subdirectories\n",
    "This notebook:\n",
    "- Searches each subdirectory for a file ending with a specific suffix (e.g., `envi_resample_MicaSense.hdr`)\n",
    "- Extracts reflectance values for each polygon in a GeoJSON file\n",
    "- Checks and reprojects CRS if needed\n",
    "- Saves the result as a CSV file named after the subdirectory"
   ]
  },
  {
   "cell_type": "code",
   "execution_count": 1,
   "id": "1dc67665",
   "metadata": {},
   "outputs": [],
   "source": [
    "import os\n",
    "import glob\n",
    "import numpy as np\n",
    "import pandas as pd\n",
    "import geopandas as gpd\n",
    "import rasterio\n",
    "import rasterio.mask\n",
    "from shapely.geometry import box, mapping"
   ]
  },
  {
   "cell_type": "markdown",
   "id": "0502fcf1",
   "metadata": {},
   "source": [
    "## Function to check and reproject polygons to raster CRS"
   ]
  },
  {
   "cell_type": "code",
   "execution_count": 2,
   "id": "ebbd5c3a",
   "metadata": {},
   "outputs": [],
   "source": [
    "def check_and_reproject(geojson_path, raster_path):\n",
    "    polygons = gpd.read_file(geojson_path)\n",
    "    with rasterio.open(raster_path) as src:\n",
    "        raster_crs = src.crs\n",
    "    if polygons.crs != raster_crs:\n",
    "        print(f\"🔄 Reprojecting GeoJSON from {polygons.crs} to {raster_crs}\")\n",
    "        polygons = polygons.to_crs(raster_crs)\n",
    "    else:\n",
    "        print(\"✅ GeoJSON and Raster have the same CRS\")\n",
    "    return polygons"
   ]
  },
  {
   "cell_type": "markdown",
   "id": "572f4db7",
   "metadata": {},
   "source": [
    "## Function to extract reflectance values inside each polygon"
   ]
  },
  {
   "cell_type": "code",
   "execution_count": 3,
   "id": "0a7c4b7c",
   "metadata": {},
   "outputs": [],
   "source": [
    "def extract_pixel_reflectance(geojson_path, raster_path, output_csv):\n",
    "    polygons = check_and_reproject(geojson_path, raster_path)\n",
    "    with rasterio.open(raster_path) as src:\n",
    "        wavelengths = src.descriptions\n",
    "        raster_bounds = src.bounds\n",
    "        transform = src.transform\n",
    "    wavelengths = [w.replace(\" \", \"_\") if w else f\"Band_{i+1}\" for i, w in enumerate(wavelengths)]\n",
    "    raster_extent = box(*raster_bounds)\n",
    "    polygons = polygons[polygons.geometry.intersects(raster_extent)]\n",
    "    if polygons.empty:\n",
    "        print(\"❌ No polygons found within the raster extent!\")\n",
    "        return\n",
    "    print(f\"✅ {len(polygons)} polygons found within raster extent.\")\n",
    "    extracted_data = []\n",
    "    for poly_idx, polygon in polygons.iterrows():\n",
    "        polygon_id = polygon.get(\"OBJECTID\", poly_idx)\n",
    "        with rasterio.open(raster_path) as src:\n",
    "            out_image, out_transform = rasterio.mask.mask(src, [mapping(polygon.geometry)], crop=True)\n",
    "            out_image = out_image.astype(np.float32)\n",
    "            rows, cols = out_image.shape[1], out_image.shape[2]\n",
    "            x_coords = np.arange(cols) * out_transform[0] + out_transform[2]\n",
    "            y_coords = np.arange(rows) * out_transform[4] + out_transform[5]\n",
    "            pixel_id = 0\n",
    "            for i in range(rows):\n",
    "                for j in range(cols):\n",
    "                    reflectance_values = out_image[:, i, j]\n",
    "                    if np.any(reflectance_values > 0):\n",
    "                        row = {\n",
    "                            \"Polygon_ID\": polygon_id,\n",
    "                            \"Pixel_ID\": f\"{polygon_id}_{pixel_id}\",\n",
    "                            \"X_Coordinate\": x_coords[j],\n",
    "                            \"Y_Coordinate\": y_coords[i],\n",
    "                            **{wavelengths[b]: reflectance_values[b] for b in range(len(wavelengths))}\n",
    "                        }\n",
    "                        extracted_data.append(row)\n",
    "                        pixel_id += 1\n",
    "    df = pd.DataFrame(extracted_data)\n",
    "    df.to_csv(output_csv, index=False)\n",
    "    print(f\"📂 Reflectance data saved to: {output_csv}\")"
   ]
  },
  {
   "cell_type": "markdown",
   "id": "1ab07f32",
   "metadata": {},
   "source": [
    "## Function to loop through subdirectories and extract spectra"
   ]
  },
  {
   "cell_type": "code",
   "execution_count": 6,
   "id": "71ca469a",
   "metadata": {},
   "outputs": [],
   "source": [
    "def run_extraction_for_envi_folders(geojson_path, parent_dir, output_dir, target_suffix=\"envi_resample_MicaSense.img\"):\n",
    "    os.makedirs(output_dir, exist_ok=True)\n",
    "    for subdir, dirs, files in os.walk(parent_dir):\n",
    "        matching_files = [f for f in files if f.endswith(target_suffix)]\n",
    "        if not matching_files:\n",
    "            continue\n",
    "        if len(matching_files) > 1:\n",
    "            print(f\"⚠️ Multiple files with target suffix in {subdir}, using the first one.\")\n",
    "        envi_hdr_path = os.path.join(subdir, matching_files[0])\n",
    "        subdir_name = os.path.basename(subdir)\n",
    "        output_csv = os.path.join(output_dir, f\"{subdir_name}_spectra.csv\")\n",
    "        print(f\"\\n🔍 Processing: {envi_hdr_path}\")\n",
    "        extract_pixel_reflectance(geojson_path, envi_hdr_path, output_csv)"
   ]
  },
  {
   "cell_type": "markdown",
   "id": "a29a91bb",
   "metadata": {},
   "source": [
    "## Run the extraction"
   ]
  },
  {
   "cell_type": "code",
   "execution_count": 9,
   "id": "0ead4679",
   "metadata": {},
   "outputs": [
    {
     "name": "stdout",
     "output_type": "stream",
     "text": [
      "\n",
      "🔍 Processing: /data-store/iplant/home/shared/earthlab/macrosystems/processed_flight_lines/NIWO_2023_07/NEON_D13_NIWO_DP1_L003-1_20230815_directional_reflectance/NEON_D13_NIWO_DP1_L003-1_20230815_directional_reflectance__envi_resample_MicaSense.img\n",
      "🔄 Reprojecting GeoJSON from EPSG:5070 to EPSG:32613\n",
      "✅ 626 polygons found within raster extent.\n",
      "📂 Reflectance data saved to: /home/jovyan/data-store/cross-sensor-cal/drone_cor_sup/out_csv/NIWO_poly_spectra/NEON_D13_NIWO_DP1_L003-1_20230815_directional_reflectance_spectra.csv\n",
      "\n",
      "🔍 Processing: /data-store/iplant/home/shared/earthlab/macrosystems/processed_flight_lines/NIWO_2023_07/NEON_D13_NIWO_DP1_L019-1_20230815_directional_reflectance/NEON_D13_NIWO_DP1_L019-1_20230815_directional_reflectance__envi_resample_MicaSense.img\n",
      "🔄 Reprojecting GeoJSON from EPSG:5070 to EPSG:32613\n",
      "✅ 231 polygons found within raster extent.\n",
      "📂 Reflectance data saved to: /home/jovyan/data-store/cross-sensor-cal/drone_cor_sup/out_csv/NIWO_poly_spectra/NEON_D13_NIWO_DP1_L019-1_20230815_directional_reflectance_spectra.csv\n"
     ]
    }
   ],
   "source": [
    "# Define input paths\n",
    "geojson_path = \"/data-store/iplant/home/shared/earthlab/macrosystems/field-data/analysis_ready_polygons/aop_polygons_1_24_2025_analysis_ready.geojson\"\n",
    "parent_raster_dir = \"/data-store/iplant/home/shared/earthlab/macrosystems/processed_flight_lines/NIWO_2023_07\"\n",
    "output_csv_dir = \"/home/jovyan/data-store/cross-sensor-cal/drone_cor_sup/out_csv/NIWO_poly_spectra\"\n",
    "\n",
    "# Run batch extraction\n",
    "run_extraction_for_envi_folders(\n",
    "    geojson_path=geojson_path,\n",
    "    parent_dir=parent_raster_dir,\n",
    "    output_dir=output_csv_dir,\n",
    "    target_suffix=\"envi_resample_MicaSense.img\"\n",
    ")"
   ]
  },
  {
   "cell_type": "code",
   "execution_count": null,
   "id": "1f8f3902-718a-4902-8806-c52dd30d76f3",
   "metadata": {},
   "outputs": [],
   "source": []
  }
 ],
 "metadata": {
  "kernelspec": {
   "display_name": "macrosystems",
   "language": "python",
   "name": "macrosystems"
  },
  "language_info": {
   "codemirror_mode": {
    "name": "ipython",
    "version": 3
   },
   "file_extension": ".py",
   "mimetype": "text/x-python",
   "name": "python",
   "nbconvert_exporter": "python",
   "pygments_lexer": "ipython3",
   "version": "3.10.13"
  }
 },
 "nbformat": 4,
 "nbformat_minor": 5
}
