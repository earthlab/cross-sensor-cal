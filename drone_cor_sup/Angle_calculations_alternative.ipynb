{
 "cells": [
  {
   "cell_type": "markdown",
   "id": "0c443e14-d306-4090-ae62-558f578bc331",
   "metadata": {},
   "source": [
    "# This code calculates the angles needed to correct the BRDF and topo effects from the drone data orthomosaic and the metadata\n",
    "\n"
   ]
  },
  {
   "cell_type": "code",
   "execution_count": 6,
   "id": "9a4ab2ba-f02a-464a-b6f6-e99cd3a289d1",
   "metadata": {},
   "outputs": [
    {
     "name": "stdout",
     "output_type": "stream",
     "text": [
      "Requirement already satisfied: numpy in /opt/conda/envs/macrosystems/lib/python3.10/site-packages (1.26.3)\n",
      "Requirement already satisfied: rasterio in /opt/conda/envs/macrosystems/lib/python3.10/site-packages (1.3.8)\n",
      "Collecting pvlib\n",
      "  Downloading pvlib-0.11.2-py3-none-any.whl.metadata (2.9 kB)\n",
      "Requirement already satisfied: pyproj in /opt/conda/envs/macrosystems/lib/python3.10/site-packages (3.6.0)\n",
      "Requirement already satisfied: affine in /opt/conda/envs/macrosystems/lib/python3.10/site-packages (from rasterio) (2.4.0)\n",
      "Requirement already satisfied: attrs in /opt/conda/envs/macrosystems/lib/python3.10/site-packages (from rasterio) (23.1.0)\n",
      "Requirement already satisfied: certifi in /opt/conda/envs/macrosystems/lib/python3.10/site-packages (from rasterio) (2023.7.22)\n",
      "Requirement already satisfied: click>=4.0 in /opt/conda/envs/macrosystems/lib/python3.10/site-packages (from rasterio) (8.1.3)\n",
      "Requirement already satisfied: cligj>=0.5 in /opt/conda/envs/macrosystems/lib/python3.10/site-packages (from rasterio) (0.7.2)\n",
      "Requirement already satisfied: snuggs>=1.4.1 in /opt/conda/envs/macrosystems/lib/python3.10/site-packages (from rasterio) (1.4.7)\n",
      "Requirement already satisfied: click-plugins in /opt/conda/envs/macrosystems/lib/python3.10/site-packages (from rasterio) (1.1.1)\n",
      "Requirement already satisfied: setuptools in /opt/conda/envs/macrosystems/lib/python3.10/site-packages (from rasterio) (69.0.3)\n",
      "Requirement already satisfied: pandas>=1.3.0 in /opt/conda/envs/macrosystems/lib/python3.10/site-packages (from pvlib) (2.0.2)\n",
      "Requirement already satisfied: pytz in /opt/conda/envs/macrosystems/lib/python3.10/site-packages (from pvlib) (2023.3)\n",
      "Requirement already satisfied: requests in /opt/conda/envs/macrosystems/lib/python3.10/site-packages (from pvlib) (2.31.0)\n",
      "Requirement already satisfied: scipy>=1.6.0 in /opt/conda/envs/macrosystems/lib/python3.10/site-packages (from pvlib) (1.11.0)\n",
      "Requirement already satisfied: h5py in /opt/conda/envs/macrosystems/lib/python3.10/site-packages (from pvlib) (3.9.0)\n",
      "Requirement already satisfied: python-dateutil>=2.8.2 in /opt/conda/envs/macrosystems/lib/python3.10/site-packages (from pandas>=1.3.0->pvlib) (2.8.2)\n",
      "Requirement already satisfied: tzdata>=2022.1 in /opt/conda/envs/macrosystems/lib/python3.10/site-packages (from pandas>=1.3.0->pvlib) (2023.3)\n",
      "Requirement already satisfied: pyparsing>=2.1.6 in /opt/conda/envs/macrosystems/lib/python3.10/site-packages (from snuggs>=1.4.1->rasterio) (3.1.1)\n",
      "Requirement already satisfied: charset-normalizer<4,>=2 in /opt/conda/envs/macrosystems/lib/python3.10/site-packages (from requests->pvlib) (3.1.0)\n",
      "Requirement already satisfied: idna<4,>=2.5 in /opt/conda/envs/macrosystems/lib/python3.10/site-packages (from requests->pvlib) (3.4)\n",
      "Requirement already satisfied: urllib3<3,>=1.21.1 in /opt/conda/envs/macrosystems/lib/python3.10/site-packages (from requests->pvlib) (2.0.7)\n",
      "Requirement already satisfied: six>=1.5 in /opt/conda/envs/macrosystems/lib/python3.10/site-packages (from python-dateutil>=2.8.2->pandas>=1.3.0->pvlib) (1.16.0)\n",
      "Downloading pvlib-0.11.2-py3-none-any.whl (29.2 MB)\n",
      "\u001b[2K   \u001b[90m━━━━━━━━━━━━━━━━━━━━━━━━━━━━━━━━━━━━━━━━\u001b[0m \u001b[32m29.2/29.2 MB\u001b[0m \u001b[31m38.0 MB/s\u001b[0m eta \u001b[36m0:00:00\u001b[0m:00:01\u001b[0m0:01\u001b[0m\n",
      "\u001b[?25hInstalling collected packages: pvlib\n",
      "Successfully installed pvlib-0.11.2\n",
      "Note: you may need to restart the kernel to use updated packages.\n"
     ]
    }
   ],
   "source": [
    "#rasterio: For working with georeferenced TIFF images.\n",
    "#pvlib: For solar position calculations.\n",
    "#pyproj: For coordinate transformations.\n",
    "\n",
    "%pip install numpy rasterio pvlib pyproj\n"
   ]
  },
  {
   "cell_type": "code",
   "execution_count": 7,
   "id": "1558bfa9-e880-410d-b1d0-bd9f54a3b419",
   "metadata": {},
   "outputs": [],
   "source": [
    "import rasterio\n",
    "from rasterio.transform import xy\n",
    "import pandas as pd\n",
    "from pvlib.solarposition import get_solarposition\n",
    "from pyproj import Geod\n",
    "import numpy as np\n",
    "from rasterio.transform import from_origin"
   ]
  },
  {
   "cell_type": "code",
   "execution_count": 8,
   "id": "b9611896-ceb6-49fc-a6ad-f99d06bf2cdf",
   "metadata": {},
   "outputs": [],
   "source": [
    "image_path = '/home/jovyan/data-store/cross-sensor-cal/data_set2/aligned_orthomosaic.tif'"
   ]
  },
  {
   "cell_type": "code",
   "execution_count": 9,
   "id": "b50db501-bccf-4f81-a52f-00558be80561",
   "metadata": {},
   "outputs": [
    {
     "name": "stdout",
     "output_type": "stream",
     "text": [
      "Number of pixels: 684096\n"
     ]
    }
   ],
   "source": [
    "#Extract pixel coordinates (latitude and longitude) from the georeferenced TIFF.\n",
    "\n",
    "# Open the georeferenced TIFF\n",
    "with rasterio.open(image_path) as src:\n",
    "    # Get the dimensions of the image\n",
    "    width, height = src.width, src.height\n",
    "    \n",
    "    # Get the geotransform and CRS\n",
    "    transform = src.transform\n",
    "    crs = src.crs\n",
    "    \n",
    "    # Extract pixel coordinates\n",
    "    coords = [\n",
    "        xy(transform, row, col, offset='center')\n",
    "        for row in range(height) for col in range(width)\n",
    "    ]\n",
    "\n",
    "    # Separate longitude and latitude\n",
    "    longitudes, latitudes = zip(*coords)\n",
    "\n",
    "print(f\"Number of pixels: {len(longitudes)}\")\n"
   ]
  },
  {
   "cell_type": "code",
   "execution_count": 12,
   "id": "eec31913-e26e-4041-b8cb-1a78a4fa86c5",
   "metadata": {},
   "outputs": [
    {
     "name": "stdout",
     "output_type": "stream",
     "text": [
      "      latitude   longitude  solar_zenith  solar_azimuth\n",
      "0  4431928.625  453838.875     49.372730     334.488193\n",
      "1  4431928.625  453839.125     49.465158     334.193230\n",
      "2  4431928.625  453839.375     49.558574     333.899215\n",
      "3  4431928.625  453839.625     49.652972     333.606152\n",
      "4  4431928.625  453839.875     49.748346     333.314046\n"
     ]
    }
   ],
   "source": [
    "# Use the pvlib.solarposition.get_solarposition function for solar angles based on location and time.\n",
    "\n",
    "# Define the image capture date and time\n",
    "image_datetime = \"2023-08-14 21:28:00\"  # Example datetime in UTC (locat time of data collection is 14:28)\n",
    "\n",
    "# Convert to pandas datetime for processing\n",
    "times = pd.to_datetime([image_datetime])\n",
    "\n",
    "# Create a DataFrame to store results\n",
    "solar_angles = []\n",
    "\n",
    "# Calculate solar angles for each pixel\n",
    "for lat, lon in zip(latitudes, longitudes):\n",
    "    # Get solar position\n",
    "    solar_pos = get_solarposition(times, latitude=lat, longitude=lon)\n",
    "    #print(solar_pos)\n",
    "    solar_angles.append({\n",
    "        \"latitude\": lat,\n",
    "        \"longitude\": lon,\n",
    "        \"solar_zenith\": solar_pos[\"zenith\"].values[0],  # Solar Zenith Angle\n",
    "        \"solar_azimuth\": solar_pos[\"azimuth\"].values[0],  # Solar Azimuth Angle\n",
    "    })\n",
    "\n",
    "# Convert results to a DataFrame\n",
    "import pandas as pd\n",
    "solar_angles_df = pd.DataFrame(solar_angles)\n",
    "\n",
    "print(solar_angles_df.head())\n"
   ]
  },
  {
   "cell_type": "code",
   "execution_count": null,
   "id": "4bc20985-be48-4614-b1a2-0f237712f070",
   "metadata": {},
   "outputs": [],
   "source": [
    "#To save the calculated angles as raster layers:\n",
    "\n",
    "# Define metadata for the new raster\n",
    "meta = src.meta.copy()\n",
    "meta.update(dtype='float32', count=2)  # One band for solar zenith, one for azimuth\n",
    "\n",
    "# Create raster with solar zenith and azimuth\n",
    "with rasterio.open(\"solar_angles.tif\", \"w\", **meta) as dst:\n",
    "    dst.write(solar_angles_df[\"solar_zenith\"].values.reshape(height, width).astype('float32'), 1)\n",
    "    dst.write(solar_angles_df[\"solar_azimuth\"].values.reshape(height, width).astype('float32'), 2)\n"
   ]
  },
  {
   "cell_type": "markdown",
   "id": "fd78a9ea-2dd6-43d9-9e46-51b8b49a9f6f",
   "metadata": {},
   "source": [
    "### Sensor zenith and azimuth angles depend on the satellite/sensor metadata. This typically includes:\n",
    "\n",
    "#### Satellite viewing geometry: Look angles, offsets, and swath details. Sensor position and orientation: Often available in metadata files (e.g., for Sentinel-2 or Landsat). Example: Simplified Sensor Zenith and Azimuth Calculation If the sensor's position is given in Earth-Centered Earth-Fixed (ECEF) coordinates and the image's ground coordinates are in latitude/longitude, you can calculate sensor angles using vector geometry."
   ]
  },
  {
   "cell_type": "markdown",
   "id": "afe68fbd-7b56-4ada-b282-4d58ae7b7363",
   "metadata": {},
   "source": [
    "### this is if not nadir data collection"
   ]
  },
  {
   "cell_type": "code",
   "execution_count": null,
   "id": "ef323597-41b7-4b53-aa54-37db7ce803b4",
   "metadata": {},
   "outputs": [],
   "source": [
    "\n",
    "# Example sensor position in ECEF (example values, adjust for your sensor)\n",
    "sensor_position_ecef = np.array([6871.0, -23.0, 1.0])  # x, y, z in km\n",
    "\n",
    "# Convert latitude and longitude to ECEF\n",
    "geod = Geod(ellps=\"WGS84\")\n",
    "sensor_angles = []\n",
    "\n",
    "for lat, lon in zip(latitudes, longitudes):\n",
    "    # Convert lat/lon to ECEF\n",
    "    lon_rad, lat_rad = np.radians(lon), np.radians(lat)\n",
    "    x = np.cos(lat_rad) * np.cos(lon_rad)\n",
    "    y = np.cos(lat_rad) * np.sin(lon_rad)\n",
    "    z = np.sin(lat_rad)\n",
    "    pixel_position_ecef = np.array([x, y, z])\n",
    "\n",
    "    # Compute vector between sensor and pixel\n",
    "    vector = pixel_position_ecef - sensor_position_ecef\n",
    "    distance = np.linalg.norm(vector)\n",
    "    \n",
    "    # Sensor Zenith Angle\n",
    "    sensor_zenith = np.arccos(vector[2] / distance)  # Angle with respect to Z-axis\n",
    "\n",
    "    # Sensor Azimuth Angle\n",
    "    sensor_azimuth = np.arctan2(vector[1], vector[0])  # Angle in XY plane\n",
    "    \n",
    "    sensor_angles.append({\n",
    "        \"sensor_zenith\": np.degrees(sensor_zenith),\n",
    "        \"sensor_azimuth\": np.degrees(sensor_azimuth)\n",
    "    })\n",
    "\n",
    "# Combine results with solar angles\n",
    "for i, sa in enumerate(sensor_angles):\n",
    "    solar_angles_df.loc[i, \"sensor_zenith\"] = sa[\"sensor_zenith\"]\n",
    "    solar_angles_df.loc[i, \"sensor_azimuth\"] = sa[\"sensor_azimuth\"]\n",
    "\n",
    "print(solar_angles_df.head())\n"
   ]
  },
  {
   "cell_type": "markdown",
   "id": "92f71d5a-40a9-4c62-a44c-69dd51ee637a",
   "metadata": {},
   "source": [
    "### this is if nadir data collection"
   ]
  },
  {
   "cell_type": "code",
   "execution_count": 13,
   "id": "4b9445a6-6bce-4ba4-a974-d2a2b98fa7d0",
   "metadata": {},
   "outputs": [
    {
     "name": "stdout",
     "output_type": "stream",
     "text": [
      "   latitude  longitude  sensor_zenith  sensor_azimuth\n",
      "0     34.05    -118.25            0.0             0.0\n",
      "1     34.10    -118.20            0.0             0.0\n",
      "2     34.15    -118.15            0.0             0.0\n"
     ]
    }
   ],
   "source": [
    "# Example: latitudes and longitudes of pixels\n",
    "latitudes = [34.05, 34.10, 34.15]  # Example latitudes (degrees)\n",
    "longitudes = [-118.25, -118.20, -118.15]  # Example longitudes (degrees)\n",
    "\n",
    "# Placeholder DataFrame for solar angles\n",
    "solar_angles_df = pd.DataFrame({\n",
    "    \"latitude\": latitudes,\n",
    "    \"longitude\": longitudes\n",
    "})\n",
    "\n",
    "# Assume Nadir Sensor Position\n",
    "for i in range(len(latitudes)):\n",
    "    # Sensor zenith angle is 0° in nadir position\n",
    "    solar_angles_df.loc[i, \"sensor_zenith\"] = 0.0\n",
    "\n",
    "    # Sensor azimuth angle can be set to 0° or ignored\n",
    "    solar_angles_df.loc[i, \"sensor_azimuth\"] = 0.0\n",
    "\n",
    "print(solar_angles_df)\n"
   ]
  },
  {
   "cell_type": "code",
   "execution_count": 14,
   "id": "673d9a37-74bb-4b4b-b4e7-8a11ce5277d7",
   "metadata": {},
   "outputs": [
    {
     "name": "stdout",
     "output_type": "stream",
     "text": [
      "   latitude  longitude  sensor_zenith  sensor_azimuth\n",
      "0     34.05    -118.25            5.0             0.0\n",
      "1     34.10    -118.20            5.0             0.0\n",
      "2     34.15    -118.15            5.0             0.0\n"
     ]
    }
   ],
   "source": [
    "# Example sensor offset angle from nadir (degrees)\n",
    "theta_off = 5.0  # Small off-nadir angle\n",
    "\n",
    "for i, (lat, lon) in enumerate(zip(latitudes, longitudes)):\n",
    "    # Adjust sensor zenith by the off-nadir angle\n",
    "    solar_angles_df.loc[i, \"sensor_zenith\"] = theta_off\n",
    "    \n",
    "    # Assume azimuth as 0° for simplicity in this case\n",
    "    solar_angles_df.loc[i, \"sensor_azimuth\"] = 0.0\n",
    "\n",
    "print(solar_angles_df)\n"
   ]
  },
  {
   "cell_type": "code",
   "execution_count": null,
   "id": "04af97bc-8057-4ef9-af6b-985d7945db49",
   "metadata": {},
   "outputs": [],
   "source": []
  }
 ],
 "metadata": {
  "kernelspec": {
   "display_name": "macrosystems",
   "language": "python",
   "name": "macrosystems"
  },
  "language_info": {
   "codemirror_mode": {
    "name": "ipython",
    "version": 3
   },
   "file_extension": ".py",
   "mimetype": "text/x-python",
   "name": "python",
   "nbconvert_exporter": "python",
   "pygments_lexer": "ipython3",
   "version": "3.10.13"
  }
 },
 "nbformat": 4,
 "nbformat_minor": 5
}
