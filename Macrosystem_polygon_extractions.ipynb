{
 "cells": [
  {
   "cell_type": "code",
   "execution_count": 2,
   "id": "5251b892-a667-4082-9d85-9fb1c804b332",
   "metadata": {},
   "outputs": [
    {
     "name": "stdout",
     "output_type": "stream",
     "text": [
      "Requirement already satisfied: spectral in /opt/conda/envs/macrosystems/lib/python3.10/site-packages (0.23.1)\n",
      "Requirement already satisfied: numpy in /opt/conda/envs/macrosystems/lib/python3.10/site-packages (from spectral) (1.26.3)\n",
      "Note: you may need to restart the kernel to use updated packages.\n"
     ]
    }
   ],
   "source": [
    "pip install spectral"
   ]
  },
  {
   "cell_type": "code",
   "execution_count": 1,
   "id": "ac678ec2-45fa-4bbf-9279-d0439b9e51d8",
   "metadata": {},
   "outputs": [
    {
     "name": "stdout",
     "output_type": "stream",
     "text": [
      "['CRS', 'ENVIProcessor', 'GradientBoostingRegressor', 'Resampling', '__builtins__', '__cached__', '__doc__', '__file__', '__loader__', '__name__', '__package__', '__spec__', 'apply_topo_and_brdf_corrections', 'boosted_quantile_plot', 'boosted_quantile_plot_by_sensor', 'box', 'calculate_default_transform', 'clean_csv_files_in_subfolders', 'clean_data_and_write_to_csv', 'concatenate_sensors', 'control_function', 'download_neon_file', 'download_neon_flight_lines', 'extract_overlapping_layers_to_2d_dataframe', 'find_raster_files', 'fit_models_with_different_alpha', 'flight_lines_to_envi', 'generate_config_json', 'generate_correction_configs', 'generate_correction_configs_for_directory', 'get_spectral_data_and_wavelengths', 'glob', 'go_forth_and_multiply', 'gpd', 'h5py', 'ht', 'jefe', 'json', 'load_and_combine_rasters', 'load_spectra', 'mask', 'mask_raster_with_polygons', 'np', 'open_image', 'os', 'pd', 'plot_each_sensor_with_highlight', 'plot_spectral_data', 'plot_with_highlighted_sensors', 'plt', 'prepare_spectral_data', 'process_all_envi_files_with_mask', 'process_all_subdirectories', 'process_and_flatten_array', 'process_base_folder', 'process_folder_with_polygons', 'process_hdf5_with_neon2envi', 'random', 'rasterio', 'rasterize', 'rasterize_polygons_to_match_envi', 'ray', 'reproject', 'requests', 'resample_translation_to_other_sensors', 'reshape_spectra', 'show', 'show_rgb', 'subprocess', 'time', 'tqdm', 'translate_to_other_sensors', 'validate_output_files', 'warnings']\n"
     ]
    }
   ],
   "source": [
    "import hytools as ht\n",
    "import matplotlib.pyplot as plt\n",
    "import numpy as np\n",
    "import pandas as pd\n",
    "import random\n",
    "import nbconvert\n",
    "import time\n",
    "\n",
    "### Loading Earth Lab Spectral Tools\n",
    "\n",
    "# 1. Enable autoreload in your Jupyter Notebook:\n",
    "\n",
    "%load_ext autoreload\n",
    "%autoreload 2\n",
    "\n",
    "# 2. Import the custom tools module:\n",
    "\n",
    "import spectral_unmixing_tools_original as el_spectral\n",
    "\n",
    "# 3. Verify that the tools loaded correctly by printing the module's directory:\n",
    "\n",
    "print(dir(el_spectral))"
   ]
  },
  {
   "cell_type": "code",
   "execution_count": null,
   "id": "e6d93e5a-ae36-478f-9daf-9dc546589081",
   "metadata": {},
   "outputs": [],
   "source": [
    "# NIWO - 2020-07\n",
    "base_folder = 'non_provisional_flightlines_NIWO'\n",
    "site_code = 'NIWO'\n",
    "product_code = 'DP1.30006.001'\n",
    "year_month = '2020-07'\n",
    "flight_lines = [\n",
    "    'NEON_D13_NIWO_DP1_20200731_151902_reflectance',\n",
    "    'NEON_D13_NIWO_DP1_20200731_153721_reflectance',\n",
    "    'NEON_D13_NIWO_DP1_20200731_154336_reflectance',\n",
    "    'NEON_D13_NIWO_DP1_20200731_155024_reflectance',\n",
    "    'NEON_D13_NIWO_DP1_20200731_155646_reflectance'\n",
    "]\n",
    "el_spectral.jefe(base_folder, site_code, product_code, year_month, flight_lines)\n",
    "\n",
    "\n"
   ]
  },
  {
   "cell_type": "code",
   "execution_count": null,
   "id": "fa5d1c8d-cb0d-4a71-96b4-d82457929faf",
   "metadata": {},
   "outputs": [],
   "source": [
    "# WREF - 2023-06 (Part 1)\n",
    "base_folder = 'non_provisional_flightlines_WREF'\n",
    "site_code = 'WREF'\n",
    "product_code = 'DP1.30006.001'\n",
    "year_month = '2023-06'\n",
    "flight_lines = [\n",
    "    'NEON_D16_WREF_DP1_L001-1_20230625_directional_reflectance',\n",
    "    'NEON_D16_WREF_DP1_L001-1_20230630_directional_reflectance',\n",
    "    'NEON_D16_WREF_DP1_L019-1_20230625_directional_reflectance',\n",
    "    'NEON_D16_WREF_DP1_L020-1_20230625_directional_reflectance',\n",
    "    'NEON_D16_WREF_DP1_L021-1_20230625_directional_reflectance',\n",
    "    'NEON_D16_WREF_DP1_L023-1_20230624_directional_reflectance',\n",
    "    'NEON_D16_WREF_DP1_L024-1_20230624_directional_reflectance',\n",
    "    'NEON_D16_WREF_DP1_L028-1_20230624_directional_reflectance',\n",
    "    'NEON_D16_WREF_DP1_L029-1_20230624_directional_reflectance',\n",
    "    'NEON_D16_WREF_DP1_L031-1_20230624_directional_reflectance',\n",
    "    'NEON_D16_WREF_DP1_L032-1_20230624_directional_reflectance',\n",
    "    'NEON_D16_WREF_DP1_L033-1_20230624_directional_reflectance',\n",
    "    'NEON_D16_WREF_DP1_L036-1_20230624_directional_reflectance'\n",
    "]\n",
    "el_spectral.jefe(base_folder, site_code, product_code, year_month, flight_lines)\n",
    "\n",
    "\n"
   ]
  },
  {
   "cell_type": "code",
   "execution_count": null,
   "id": "6217400b-d991-481d-80db-c715287389ea",
   "metadata": {},
   "outputs": [],
   "source": [
    "# WREF - 2023-06 (Part 2)\n",
    "base_folder = 'non_provisional_flightlines_WREF'\n",
    "site_code = 'WREF'\n",
    "product_code = 'DP1.30006.001'\n",
    "year_month = '2023-06'\n",
    "flight_lines = [\n",
    "    'NEON_D16_WREF_DP1_L040-1_20230625_directional_reflectance',\n",
    "    'NEON_D16_WREF_DP1_L041-1_20230625_directional_reflectance',\n",
    "    'NEON_D16_WREF_DP1_L042-1_20230625_directional_reflectance',\n",
    "    'NEON_D16_WREF_DP1_L043-1_20230625_directional_reflectance',\n",
    "    'NEON_D16_WREF_DP1_L046-1_20230624_directional_reflectance',\n",
    "    'NEON_D16_WREF_DP1_L051-1_20230624_directional_reflectance',\n",
    "    'NEON_D16_WREF_DP1_L053-1_20230625_directional_reflectance',\n",
    "    'NEON_D16_WREF_DP1_L054-2_20230628_directional_reflectance',\n",
    "    'NEON_D16_WREF_DP1_L055-1_20230628_directional_reflectance',\n",
    "    'NEON_D16_WREF_DP1_L062-1_20230630_directional_reflectance',\n",
    "    'NEON_D16_WREF_DP1_L063-1_20230630_directional_reflectance',\n",
    "    'NEON_D16_WREF_DP1_L064-1_20230630_directional_reflectance',\n",
    "    'NEON_D16_WREF_DP1_L065-1_20230630_directional_reflectance',\n",
    "    'NEON_D16_WREF_DP1_L067-1_20230630_directional_reflectance'\n",
    "]\n",
    "el_spectral.jefe(base_folder, site_code, product_code, year_month, flight_lines)\n",
    "\n",
    "\n"
   ]
  },
  {
   "cell_type": "code",
   "execution_count": null,
   "id": "af5cee45-7980-4d70-abd3-e5a16c6e757b",
   "metadata": {},
   "outputs": [],
   "source": [
    "# YELL - 2023-07 (Part 1)\n",
    "base_folder = 'non_provisional_flightlines_YELL'\n",
    "site_code = 'YELL'\n",
    "product_code = 'DP1.30006.001'\n",
    "year_month = '2023-07'\n",
    "flight_lines = [\n",
    "    'NEON_D12_YELL_DP1_L001-1_20230711_directional_reflectance',\n",
    "    'NEON_D12_YELL_DP1_L001-1_20230719_directional_reflectance',\n",
    "    'NEON_D12_YELL_DP1_L007-1_20230718_directional_reflectance',\n",
    "    'NEON_D12_YELL_DP1_L011-1_20230718_directional_reflectance',\n",
    "    'NEON_D12_YELL_DP1_L013-1_20230718_directional_reflectance',\n",
    "    'NEON_D12_YELL_DP1_L014-1_20230718_directional_reflectance',\n",
    "    'NEON_D12_YELL_DP1_L024-1_20230718_directional_reflectance',\n",
    "    'NEON_D12_YELL_DP1_L024-1_20230719_directional_reflectance',\n",
    "    'NEON_D12_YELL_DP1_L025-1_20230719_directional_reflectance',\n",
    "    'NEON_D12_YELL_DP1_L029-1_20230715_directional_reflectance',\n",
    "    'NEON_D12_YELL_DP1_L031-1_20230715_directional_reflectance',\n",
    "    'NEON_D12_YELL_DP1_L032-1_20230715_directional_reflectance'\n",
    "]\n",
    "el_spectral.jefe(base_folder, site_code, product_code, year_month, flight_lines)\n",
    "\n"
   ]
  },
  {
   "cell_type": "code",
   "execution_count": null,
   "id": "66479ed9-dcb5-48b8-93f3-3989572b1afc",
   "metadata": {},
   "outputs": [],
   "source": [
    "# YELL - 2023-07 (Part 2)\n",
    "base_folder = 'non_provisional_flightlines_YELL'\n",
    "site_code = 'YELL'\n",
    "product_code = 'DP1.30006.001'\n",
    "year_month = '2023-07'\n",
    "flight_lines = [\n",
    "    'NEON_D12_YELL_DP1_L033-1_20230715_directional_reflectance',\n",
    "    'NEON_D12_YELL_DP1_L036-1_20230715_directional_reflectance',\n",
    "    'NEON_D12_YELL_DP1_L037-1_20230715_directional_reflectance',\n",
    "    'NEON_D12_YELL_DP1_L038-1_20230715_directional_reflectance',\n",
    "    'NEON_D12_YELL_DP1_L040-1_20230715_directional_reflectance',\n",
    "    'NEON_D12_YELL_DP1_L046-1_20230703_directional_reflectance',\n",
    "    'NEON_D12_YELL_DP1_L050-1_20230712_directional_reflectance',\n",
    "    'NEON_D12_YELL_DP1_L051-1_20230712_directional_reflectance',\n",
    "    'NEON_D12_YELL_DP1_L065-1_20230712_directional_reflectance',\n",
    "    'NEON_D12_YELL_DP1_L067-1_20230712_directional_reflectance',\n",
    "    'NEON_D12_YELL_DP1_L073-1_20230719_directional_reflectance',\n",
    "    'NEON_D12_YELL_DP1_L074-1_20230718_directional_reflectance',\n",
    "    'NEON_D12_YELL_DP1_L075-1_20230718_directional_reflectance'\n",
    "]\n",
    "el_spectral.jefe(base_folder, site_code, product_code, year_month, flight_lines)"
   ]
  }
 ],
 "metadata": {
  "kernelspec": {
   "display_name": "macrosystems",
   "language": "python",
   "name": "macrosystems"
  },
  "language_info": {
   "codemirror_mode": {
    "name": "ipython",
    "version": 3
   },
   "file_extension": ".py",
   "mimetype": "text/x-python",
   "name": "python",
   "nbconvert_exporter": "python",
   "pygments_lexer": "ipython3",
   "version": "3.10.13"
  }
 },
 "nbformat": 4,
 "nbformat_minor": 5
}
