{
 "cells": [
  {
   "cell_type": "code",
   "execution_count": 2,
   "metadata": {},
   "outputs": [],
   "source": [
    "import rasterio\n",
    "import numpy as np\n",
    "from pyproj import Proj, transform\n",
    "from rasterio.transform import from_origin\n",
    "import ephem\n",
    "import datetime\n",
    "import math"
   ]
  },
  {
   "cell_type": "markdown",
   "metadata": {},
   "source": [
    "### Function to get the lat long from the drone image\n",
    "### Load drone data path in the function"
   ]
  },
  {
   "cell_type": "code",
   "execution_count": 3,
   "metadata": {},
   "outputs": [
    {
     "name": "stderr",
     "output_type": "stream",
     "text": [
      "C:\\Users\\JANUSHI SHASTRI\\AppData\\Local\\Temp\\ipykernel_48828\\3174482380.py:13: DeprecationWarning: Right multiplication will be prohibited in version 3.0\n",
      "  rc2en = lambda r, c: (c, r) * T1\n",
      "C:\\Users\\JANUSHI SHASTRI\\AppData\\Local\\Temp\\ipykernel_48828\\3174482380.py:17: FutureWarning: This function is deprecated. See: https://pyproj4.github.io/pyproj/stable/gotchas.html#upgrading-to-pyproj-2-from-pyproj-1\n",
      "  longs, lats = transform(p1, p2, eastings, northings)\n"
     ]
    },
    {
     "name": "stdout",
     "output_type": "stream",
     "text": [
      "Longitudes: [[-105.55816094 -105.55816011 -105.55815927 ... -105.55651632\n",
      "  -105.55651549 -105.55651466]\n",
      " [-105.55816094 -105.55816011 -105.55815928 ... -105.55651633\n",
      "  -105.5565155  -105.55651466]\n",
      " [-105.55816095 -105.55816012 -105.55815928 ... -105.55651633\n",
      "  -105.5565155  -105.55651467]\n",
      " ...\n",
      " [-105.55817339 -105.55817256 -105.55817173 ... -105.55652874\n",
      "  -105.55652791 -105.55652707]\n",
      " [-105.5581734  -105.55817256 -105.55817173 ... -105.55652875\n",
      "  -105.55652791 -105.55652708]\n",
      " [-105.5581734  -105.55817257 -105.55817174 ... -105.55652875\n",
      "  -105.55652792 -105.55652709]]\n",
      "Latitudes: [[40.03941242 40.03941242 40.03941243 ... 40.03942033 40.03942033\n",
      "  40.03942034]\n",
      " [40.03941306 40.03941306 40.03941307 ... 40.03942097 40.03942097\n",
      "  40.03942098]\n",
      " [40.0394137  40.0394137  40.03941371 ... 40.03942161 40.03942161\n",
      "  40.03942162]\n",
      " ...\n",
      " [40.04093971 40.04093971 40.04093971 ... 40.04094762 40.04094762\n",
      "  40.04094763]\n",
      " [40.04094035 40.04094035 40.04094035 ... 40.04094826 40.04094826\n",
      "  40.04094827]\n",
      " [40.04094099 40.04094099 40.04094099 ... 40.0409489  40.0409489\n",
      "  40.04094891]]\n"
     ]
    }
   ],
   "source": [
    "def get_coordinates(file_path):\n",
    "    \"\"\"\n",
    "    Extracts geospatial coordinates (longitude, latitude) from a geotiff file.\n",
    "\n",
    "    Input:\n",
    "    - file_path: A string representing the file path of the geotiff file. The geotiff file should be a raster dataset \n",
    "      with embedded geographic information. It is commonly used in geospatial analysis and contains data like elevation, land cover, etc.\n",
    "\n",
    "    The function is useful for converting pixel coordinates in a raster dataset into geographic coordinates for spatial analysis and mapping.\n",
    "\n",
    "    The function performs the following steps:\n",
    "    1. Loads the geotiff file using rasterio, which provides the affine transform and raster data.\n",
    "    2. Creates a meshgrid of column and row indices for the entire raster.\n",
    "    3. Adjusts the affine transform to align with the rasterio's convention (origin at the top-left).\n",
    "    4. Converts row and column indices to easting and northing (projected coordinates) using the adjusted transform.\n",
    "    5. Transforms the projected coordinates (easting and northings) to longitude and latitude using pyproj.\n",
    "    6. Returns the arrays of longitude and latitude coordinates.\n",
    "\n",
    "    The returned longitude and latitude arrays correspond to the geographic location of each pixel in the raster dataset.\n",
    "    \"\"\"\n",
    "    # Load geotiff\n",
    "    with rasterio.open(file_path) as r:\n",
    "        T0 = r.transform  # upper-left pixel corner affine transform\n",
    "        p1 = Proj(r.crs)\n",
    "        A = r.read()  # pixel values\n",
    "\n",
    "    # All rows and columns\n",
    "    cols, rows = np.meshgrid(np.arange(A.shape[2]), np.arange(A.shape[1]))\n",
    "\n",
    "    # Get pixel coordinates from the rows and columns\n",
    "    T1 = T0 * rasterio.Affine.scale(1, -1)\n",
    "    rc2en = lambda r, c: (c, r) * T1  \n",
    "    eastings, northings = np.vectorize(rc2en, otypes=[float, float])(rows, cols)\n",
    "\n",
    "    p2 = Proj(proj='latlong', datum='WGS84')\n",
    "    longs, lats = transform(p1, p2, eastings, northings)\n",
    "\n",
    "    return longs, lats\n",
    "\n",
    "file_path = r'C:\\Users\\JANUSHI SHASTRI\\Desktop\\CIRES_PROJECT\\Drone Data\\drive-download-20230711T205208Z-001\\niwot_6_23_2022_ortho_cropped.tif'\n",
    "longitudes, latitudes = get_coordinates(file_path)\n",
    "\n",
    "print('Longitudes:', longitudes)\n",
    "print('Latitudes:', latitudes)"
   ]
  },
  {
   "cell_type": "markdown",
   "metadata": {},
   "source": [
    "### Method 1:"
   ]
  },
  {
   "cell_type": "code",
   "execution_count": 8,
   "metadata": {},
   "outputs": [
    {
     "name": "stdout",
     "output_type": "stream",
     "text": [
      "Sun azimuth in degrees: 84.64035306276917, Sun zenith in degrees: 58.434557373447454\n"
     ]
    }
   ],
   "source": [
    "# Calculate the central latitude and longitude\n",
    "center_long = np.mean(longitudes)\n",
    "center_lat = np.mean(latitudes)\n",
    "\n",
    "# Convert the date and time to UTC. The time given is 2:34 PM, which is 14:34 in 24-hour format\n",
    "date_time_str = '2022-06-23 14:34:00'\n",
    "\n",
    "# Calculation of sun azimuth and zenith angle\n",
    "# Ephemeris computations\n",
    "observer = ephem.Observer()\n",
    "observer.lat = str(center_lat)\n",
    "observer.lon = str(center_long)\n",
    "observer.date = ephem.Date(date_time_str)\n",
    "\n",
    "sun = ephem.Sun()\n",
    "sun.compute(observer)\n",
    "\n",
    "azimuth = sun.az\n",
    "zenith = ephem.degrees('90') - sun.alt\n",
    "azimuth_deg = math.degrees(azimuth)\n",
    "zenith_deg = math.degrees(zenith)\n",
    "\n",
    "print(f'Sun azimuth in degrees: {azimuth_deg}, Sun zenith in degrees: {zenith_deg}')\n",
    "# print(f'Sun azimuth: {azimuth}, Sun zenith: {zenith}')"
   ]
  },
  {
   "cell_type": "code",
   "execution_count": null,
   "metadata": {},
   "outputs": [],
   "source": []
  },
  {
   "cell_type": "markdown",
   "metadata": {},
   "source": [
    "### Method 2"
   ]
  },
  {
   "cell_type": "markdown",
   "metadata": {},
   "source": [
    "### Function to calculate sun angles using all pixels of image and lat long"
   ]
  },
  {
   "cell_type": "code",
   "execution_count": 4,
   "metadata": {},
   "outputs": [
    {
     "name": "stderr",
     "output_type": "stream",
     "text": [
      "C:\\Users\\JANUSHI SHASTRI\\AppData\\Local\\Temp\\ipykernel_46172\\550025637.py:13: DeprecationWarning: Right multiplication will be prohibited in version 3.0\n",
      "  rc2en = lambda r, c: (c, r) * T1\n",
      "C:\\Users\\JANUSHI SHASTRI\\AppData\\Local\\Temp\\ipykernel_46172\\550025637.py:17: FutureWarning: This function is deprecated. See: https://pyproj4.github.io/pyproj/stable/gotchas.html#upgrading-to-pyproj-2-from-pyproj-1\n",
      "  longs, lats = transform(p1, p2, eastings, northings)\n"
     ]
    },
    {
     "name": "stdout",
     "output_type": "stream",
     "text": [
      "Sun azimuth in degrees: 84.64035306276917, Sun zenith in degrees: 58.434557373447454\n"
     ]
    }
   ],
   "source": [
    "def get_sun_angles(file_path, date_time_str):\n",
    "    \"\"\"\n",
    "    Calculates the sun azimuth and zenith angles for a given location and time.\n",
    "\n",
    "    Inputs:\n",
    "    - file_path: A string representing the file path of the geotiff file. The file should contain raster data with geographic information.\n",
    "    - date_time_str: A string representing the date and time for which the sun angles are to be calculated, in the format 'YYYY-MM-DD HH:MM:SS'.\n",
    "\n",
    "    This function is useful for determining the position of the sun relative to a specific geographic location and time, \n",
    "    which is important in various applications like solar energy, agriculture, and environmental studies.\n",
    "\n",
    "    The function performs the following steps:\n",
    "    1. Loads the geotiff file and retrieves the affine transform, projection, and pixel values.\n",
    "    2. Creates a meshgrid of row and column indices and converts them to geographic coordinates (longitude and latitude).\n",
    "    3. Calculates the center latitude and longitude of the raster.\n",
    "    4. Converts the provided date and time to a datetime object.\n",
    "    5. Sets up an ephem observer at the center coordinates and sets the observer's date.\n",
    "    6. Computes the sun's position using ephem and calculates azimuth and zenith angles in degrees.\n",
    "    7. Returns the azimuth and zenith angles.\n",
    "\n",
    "    The resulting azimuth and zenith angles indicate the sun's position in the sky at the specified time and location.\n",
    "    \"\"\"\n",
    "    # Load geotiff\n",
    "    with rasterio.open(file_path) as r:\n",
    "        T0 = r.transform  # upper-left pixel corner affine transform\n",
    "        p1 = Proj(r.crs)\n",
    "        A = r.read()  # pixel values\n",
    "\n",
    "    # All rows and columns\n",
    "    cols, rows = np.meshgrid(np.arange(A.shape[2]), np.arange(A.shape[1]))\n",
    "\n",
    "    # Get pixel coordinates from the rows and columns\n",
    "    T1 = T0 * rasterio.Affine.scale(1, -1)\n",
    "    rc2en = lambda r, c: (c, r) * T1  \n",
    "    eastings, northings = np.vectorize(rc2en, otypes=[float, float])(rows, cols)\n",
    "\n",
    "    p2 = Proj(proj='latlong',datum='WGS84')\n",
    "    longs, lats = transform(p1, p2, eastings, northings)\n",
    "\n",
    "    # Calculation of sun azimuth and zenith angle\n",
    "    # We'll do this for the center of the image\n",
    "    center_lat = np.mean(lats)\n",
    "    center_long = np.mean(longs)\n",
    "\n",
    "    # Convert the date and time to UTC.\n",
    "    date_time_obj = datetime.datetime.strptime(date_time_str, '%Y-%m-%d %H:%M:%S')\n",
    "\n",
    "    # Ephemeris computations\n",
    "    observer = ephem.Observer()\n",
    "    observer.lat = str(center_lat)\n",
    "    observer.lon = str(center_long)\n",
    "    observer.date = ephem.Date(date_time_obj)\n",
    "\n",
    "    sun = ephem.Sun()\n",
    "    sun.compute(observer)\n",
    "\n",
    "    azimuth = sun.az\n",
    "    zenith = ephem.degrees('90') - sun.alt\n",
    "    # Convert radians to degrees\n",
    "    azimuth_deg = math.degrees(azimuth)\n",
    "    zenith_deg = math.degrees(zenith)\n",
    "\n",
    "    print(f'Sun azimuth in degrees: {azimuth_deg}, Sun zenith in degrees: {zenith_deg}')\n",
    "\n",
    "    return azimuth, zenith\n",
    "\n",
    "file_path = r'C:\\Users\\JANUSHI SHASTRI\\Desktop\\CIRES_PROJECT\\Drone Data\\drive-download-20230711T205208Z-001\\niwot_6_23_2022_ortho_cropped.tif'\n",
    "date_time_str = '2022-06-23 14:34:00'\n",
    "\n",
    "azimuth, zenith = get_sun_angles(file_path, date_time_str)\n",
    "\n",
    "# print(f'Sun azimuth: {azimuth}, Sun zenith: {zenith}')"
   ]
  },
  {
   "cell_type": "code",
   "execution_count": null,
   "metadata": {},
   "outputs": [],
   "source": []
  }
 ],
 "metadata": {
  "kernelspec": {
   "display_name": "cires-demo",
   "language": "python",
   "name": "python3"
  },
  "language_info": {
   "codemirror_mode": {
    "name": "ipython",
    "version": 3
   },
   "file_extension": ".py",
   "mimetype": "text/x-python",
   "name": "python",
   "nbconvert_exporter": "python",
   "pygments_lexer": "ipython3",
   "version": "3.10.8"
  },
  "orig_nbformat": 4
 },
 "nbformat": 4,
 "nbformat_minor": 2
}
