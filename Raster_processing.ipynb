{
 "cells": [
  {
   "cell_type": "code",
   "execution_count": 5,
   "id": "b522aa15-bf35-4527-838a-d148a803e075",
   "metadata": {},
   "outputs": [
    {
     "name": "stdout",
     "output_type": "stream",
     "text": [
      "Requirement already satisfied: spectral in /opt/conda/envs/macrosystems/lib/python3.10/site-packages (0.24)\n",
      "Requirement already satisfied: numpy in /opt/conda/envs/macrosystems/lib/python3.10/site-packages (from spectral) (1.26.3)\n",
      "Note: you may need to restart the kernel to use updated packages.\n"
     ]
    }
   ],
   "source": [
    "pip install spectral"
   ]
  },
  {
   "cell_type": "code",
   "execution_count": 1,
   "id": "5dbc24b5-a435-45cb-895a-905971a4de1c",
   "metadata": {},
   "outputs": [
    {
     "name": "stdout",
     "output_type": "stream",
     "text": [
      "Obtaining file:///home/jovyan/data-store/cross-sensor-cal\n",
      "  Preparing metadata (setup.py) ... \u001b[?25ldone\n",
      "\u001b[?25hInstalling collected packages: cross_sensor_cal\n",
      "  Attempting uninstall: cross_sensor_cal\n",
      "    Found existing installation: cross_sensor_cal 0.1\n",
      "    Uninstalling cross_sensor_cal-0.1:\n",
      "      Successfully uninstalled cross_sensor_cal-0.1\n",
      "\u001b[33m  DEPRECATION: Legacy editable install of cross_sensor_cal==0.1 from file:///home/jovyan/data-store/cross-sensor-cal (setup.py develop) is deprecated. pip 25.3 will enforce this behaviour change. A possible replacement is to add a pyproject.toml or enable --use-pep517, and use setuptools >= 64. If the resulting installation is not behaving as expected, try using --config-settings editable_mode=compat. Please consult the setuptools documentation for more information. Discussion can be found at https://github.com/pypa/pip/issues/11457\u001b[0m\u001b[33m\n",
      "\u001b[0m  Running setup.py develop for cross_sensor_cal\n",
      "Successfully installed cross_sensor_cal\n",
      "Note: you may need to restart the kernel to use updated packages.\n"
     ]
    }
   ],
   "source": [
    "pip install -e ."
   ]
  },
  {
   "cell_type": "code",
   "execution_count": 7,
   "id": "8ecb6013-3363-4ec4-9807-5ba148827e7a",
   "metadata": {},
   "outputs": [],
   "source": [
    "cp base.py /opt/conda/envs/macrosystems/lib/python3.10/site-packages/hytools/base.py"
   ]
  },
  {
   "cell_type": "code",
   "execution_count": 5,
   "id": "12a2cf61-3e8d-4f53-aec2-8b7086ad9a1a",
   "metadata": {},
   "outputs": [
    {
     "ename": "ImportError",
     "evalue": "cannot import name 'flight_lines_to_envi' from 'src.neon_to_envi' (/home/jovyan/data-store/cross-sensor-cal/src/neon_to_envi.py)",
     "output_type": "error",
     "traceback": [
      "\u001b[0;31m---------------------------------------------------------------------------\u001b[0m",
      "\u001b[0;31mImportError\u001b[0m                               Traceback (most recent call last)",
      "Cell \u001b[0;32mIn[5], line 3\u001b[0m\n\u001b[1;32m      1\u001b[0m \u001b[38;5;28;01mimport\u001b[39;00m \u001b[38;5;21;01msrc\u001b[39;00m \u001b[38;5;28;01mas\u001b[39;00m \u001b[38;5;21;01mel_spectral\u001b[39;00m\n\u001b[1;32m      2\u001b[0m \u001b[38;5;28;01mimport\u001b[39;00m \u001b[38;5;21;01mbin\u001b[39;00m \u001b[38;5;28;01mas\u001b[39;00m \u001b[38;5;21;01mbin\u001b[39;00m\n\u001b[0;32m----> 3\u001b[0m \u001b[38;5;28;01mfrom\u001b[39;00m \u001b[38;5;21;01mbin\u001b[39;00m\u001b[38;5;21;01m.\u001b[39;00m\u001b[38;5;21;01mjefe\u001b[39;00m \u001b[38;5;28;01mimport\u001b[39;00m jefe\n\u001b[1;32m      5\u001b[0m \u001b[38;5;66;03m# Updated inputs\u001b[39;00m\n\u001b[1;32m      6\u001b[0m base_folder \u001b[38;5;241m=\u001b[39m \u001b[38;5;124m\"\u001b[39m\u001b[38;5;124mNIWO_2023_07\u001b[39m\u001b[38;5;124m\"\u001b[39m\n",
      "File \u001b[0;32m~/data-store/cross-sensor-cal/bin/jefe.py:9\u001b[0m\n\u001b[1;32m      6\u001b[0m \u001b[38;5;28;01mfrom\u001b[39;00m \u001b[38;5;21;01msrc\u001b[39;00m\u001b[38;5;21;01m.\u001b[39;00m\u001b[38;5;21;01menvi_download\u001b[39;00m \u001b[38;5;28;01mimport\u001b[39;00m download_neon_flight_lines\n\u001b[1;32m      7\u001b[0m \u001b[38;5;28;01mfrom\u001b[39;00m \u001b[38;5;21;01msrc\u001b[39;00m\u001b[38;5;21;01m.\u001b[39;00m\u001b[38;5;21;01mfile_types\u001b[39;00m \u001b[38;5;28;01mimport\u001b[39;00m NEONReflectanceConfigFile, \\\n\u001b[1;32m      8\u001b[0m     NEONReflectanceBRDFCorrectedENVIFile, NEONReflectanceENVIFile, NEONReflectanceResampledENVIFile\n\u001b[0;32m----> 9\u001b[0m \u001b[38;5;28;01mfrom\u001b[39;00m \u001b[38;5;21;01msrc\u001b[39;00m\u001b[38;5;21;01m.\u001b[39;00m\u001b[38;5;21;01mneon_to_envi\u001b[39;00m \u001b[38;5;28;01mimport\u001b[39;00m flight_lines_to_envi\n\u001b[1;32m     10\u001b[0m \u001b[38;5;28;01mfrom\u001b[39;00m \u001b[38;5;21;01msrc\u001b[39;00m\u001b[38;5;21;01m.\u001b[39;00m\u001b[38;5;21;01mtopo_and_brdf_correction\u001b[39;00m \u001b[38;5;28;01mimport\u001b[39;00m generate_config_json, topo_and_brdf_correction, apply_offset_to_envi\n\u001b[1;32m     11\u001b[0m \u001b[38;5;28;01mfrom\u001b[39;00m \u001b[38;5;21;01msrc\u001b[39;00m\u001b[38;5;21;01m.\u001b[39;00m\u001b[38;5;21;01mconvolution_resample\u001b[39;00m \u001b[38;5;28;01mimport\u001b[39;00m resample \u001b[38;5;28;01mas\u001b[39;00m convolution_resample\n",
      "\u001b[0;31mImportError\u001b[0m: cannot import name 'flight_lines_to_envi' from 'src.neon_to_envi' (/home/jovyan/data-store/cross-sensor-cal/src/neon_to_envi.py)"
     ]
    }
   ],
   "source": [
    "import src as el_spectral\n",
    "import bin as bin\n",
    "from bin.jefe import jefe\n",
    "\n",
    "# Updated inputs\n",
    "base_folder = \"NIWO_2023_07\"\n",
    "site_code = \"NIWO\"\n",
    "year_month = \"2023-08\"\n",
    "flight_lines = [\n",
    "    \"NEON_D13_NIWO_DP1_L019-1_20230815_directional_reflectance\"\n",
    "]\n",
    "polygon_layer_path = \"Datasets/niwot_aop_polygons_2023_12_8_23_analysis_ready_half_diam.gpkg\"  # <-- Update this to your actual polygon file\n",
    "\n",
    "# Run jefe\n",
    "jefe(\n",
    "    base_folder=base_folder,\n",
    "    site_code=site_code,\n",
    "    year_month=year_month,\n",
    "    flight_lines=flight_lines,\n",
    "    polygon_layer_path=polygon_layer_path,\n",
    "    remote_prefix=\"\",  # Optional: leave empty or set your iRODS subpath\n",
    "    sync_files=True    # Set to False if you want to skip syncing for now\n",
    ")"
   ]
  },
  {
   "cell_type": "code",
   "execution_count": 8,
   "id": "a3411f49-83ee-4a58-ad0e-e814a51ceb32",
   "metadata": {
    "scrolled": true
   },
   "outputs": [
    {
     "name": "stdout",
     "output_type": "stream",
     "text": [
      "📥 Downloading NEON flight lines...\n",
      "Downloading NEON flight line: NEON_D13_NIWO_DP1_L019-1_20230815_directional_reflectance\n",
      "Skipping clean_test/NEON_D13_NIWO_DP1_L019-1_20230815_directional_reflectance.h5, already exists\n",
      "Downloading NEON flight line: NEON_D13_NIWO_DP1_L020-1_20230815_directional_reflectance\n",
      "Skipping clean_test/NEON_D13_NIWO_DP1_L020-1_20230815_directional_reflectance.h5, already exists\n",
      "✅ Download complete.\n",
      "\n",
      "📦 Converting H5 files to ENVI format...\n",
      "🔄 [1/2] Converting: NEON_D13_NIWO_DP1_L019-1_20230815_directional_reflectance.h5\n"
     ]
    },
    {
     "name": "stderr",
     "output_type": "stream",
     "text": [
      "2025-10-03 18:34:26,219\tWARNING services.py:1996 -- WARNING: The object store is using /tmp instead of /dev/shm because /dev/shm has only 67108864 bytes available. This will harm performance! You may be able to free up space by deleting files in /dev/shm. If you are inside a Docker container, you can increase /dev/shm size by passing '--shm-size=10.24gb' to 'docker run' (or add it to the run_options list in a Ray cluster config). Make sure to set this to more than 30% of available RAM.\n",
      "2025-10-03 18:34:27,273\tINFO worker.py:1673 -- Started a local Ray instance.\n"
     ]
    },
    {
     "name": "stdout",
     "output_type": "stream",
     "text": [
      "\n",
      "📦 Exporting ancillary ENVI data...\n",
      "\u001b[36m(HyTools pid=40951)\u001b[0m ⚠️ Skipping existing file: clean_test/NEON_D13_NIWO_DP1_L019-1_20230815_directional_reflectance/NEON_D13_NIWO_DP1.30006.001_L019-1_20230815_directional_reflectance_envi.img\n",
      "✅ All processing complete.\n",
      "✅ Finished: NEON_D13_NIWO_DP1_L019-1_20230815_directional_reflectance.h5\n",
      "\n",
      "🔄 [2/2] Converting: NEON_D13_NIWO_DP1_L020-1_20230815_directional_reflectance.h5\n"
     ]
    },
    {
     "name": "stderr",
     "output_type": "stream",
     "text": [
      "2025-10-03 18:36:00,501\tWARNING services.py:1996 -- WARNING: The object store is using /tmp instead of /dev/shm because /dev/shm has only 67108864 bytes available. This will harm performance! You may be able to free up space by deleting files in /dev/shm. If you are inside a Docker container, you can increase /dev/shm size by passing '--shm-size=10.24gb' to 'docker run' (or add it to the run_options list in a Ray cluster config). Make sure to set this to more than 30% of available RAM.\n",
      "2025-10-03 18:36:01,566\tINFO worker.py:1673 -- Started a local Ray instance.\n"
     ]
    },
    {
     "name": "stdout",
     "output_type": "stream",
     "text": [
      "\n",
      "📦 Exporting ancillary ENVI data...\n",
      "\u001b[36m(HyTools pid=41795)\u001b[0m ⚠️ Skipping existing file: clean_test/NEON_D13_NIWO_DP1_L020-1_20230815_directional_reflectance/NEON_D13_NIWO_DP1.30006.001_L020-1_20230815_directional_reflectance_envi.img\n",
      "✅ All processing complete.\n",
      "✅ Finished: NEON_D13_NIWO_DP1_L020-1_20230815_directional_reflectance.h5\n",
      "\n",
      "✅ ENVI conversion complete.\n",
      "\n",
      "📝 Generating configuration JSON...\n",
      "📝 Generating configuration JSON (HyTools-ready)...\n",
      "📂 Found 2 reflectance files.\n",
      "✅ Config saved: clean_test/NEON_D13_NIWO_DP1_L019-1_20230815_directional_reflectance/NEON_D13_NIWO_DP1.30006.001_L019-1_20230815_directional_reflectance_envi_config_envi.json\n",
      "✅ Config saved: clean_test/NEON_D13_NIWO_DP1_L020-1_20230815_directional_reflectance/NEON_D13_NIWO_DP1.30006.001_L020-1_20230815_directional_reflectance_envi_config_envi.json\n",
      "✅ Config JSON generation complete.\n",
      "\n",
      "⛰️ Applying topographic and BRDF corrections...\n",
      "⚙️ Applying corrections to: clean_test/NEON_D13_NIWO_DP1_L019-1_20230815_directional_reflectance/NEON_D13_NIWO_DP1.30006.001_L019-1_20230815_directional_reflectance_envi_config_envi.json\n",
      "🚀 Using 8 CPUs for correction.\n"
     ]
    },
    {
     "name": "stderr",
     "output_type": "stream",
     "text": [
      "2025-10-03 18:37:58,821\tWARNING services.py:1996 -- WARNING: The object store is using /tmp instead of /dev/shm because /dev/shm has only 67108864 bytes available. This will harm performance! You may be able to free up space by deleting files in /dev/shm. If you are inside a Docker container, you can increase /dev/shm size by passing '--shm-size=10.24gb' to 'docker run' (or add it to the run_options list in a Ray cluster config). Make sure to set this to more than 30% of available RAM.\n",
      "2025-10-03 18:37:59,882\tINFO worker.py:1673 -- Started a local Ray instance.\n"
     ]
    },
    {
     "name": "stdout",
     "output_type": "stream",
     "text": [
      "📦 Ancillary mapping for HyTools:\n",
      "{\n",
      "  \"clean_test/NEON_D13_NIWO_DP1_L019-1_20230815_directional_reflectance/NEON_D13_NIWO_DP1.30006.001_L019-1_20230815_directional_reflectance_envi.img\": {\n",
      "    \"path_length\": [\n",
      "      \"clean_test/NEON_D13_NIWO_DP1_L019-1_20230815_directional_reflectance/NEON_D13_NIWO_DP1.30006.001_L019-1_20230815_directional_reflectance_ancillary_envi.img\",\n",
      "      0\n",
      "    ],\n",
      "    \"sensor_az\": [\n",
      "      \"clean_test/NEON_D13_NIWO_DP1_L019-1_20230815_directional_reflectance/NEON_D13_NIWO_DP1.30006.001_L019-1_20230815_directional_reflectance_ancillary_envi.img\",\n",
      "      1\n",
      "    ],\n",
      "    \"sensor_zn\": [\n",
      "      \"clean_test/NEON_D13_NIWO_DP1_L019-1_20230815_directional_reflectance/NEON_D13_NIWO_DP1.30006.001_L019-1_20230815_directional_reflectance_ancillary_envi.img\",\n",
      "      2\n",
      "    ],\n",
      "    \"solar_az\": [\n",
      "      \"clean_test/NEON_D13_NIWO_DP1_L019-1_20230815_directional_reflectance/NEON_D13_NIWO_DP1.30006.001_L019-1_20230815_directional_reflectance_ancillary_envi.img\",\n",
      "      3\n",
      "    ],\n",
      "    \"solar_zn\": [\n",
      "      \"clean_test/NEON_D13_NIWO_DP1_L019-1_20230815_directional_reflectance/NEON_D13_NIWO_DP1.30006.001_L019-1_20230815_directional_reflectance_ancillary_envi.img\",\n",
      "      4\n",
      "    ],\n",
      "    \"slope\": [\n",
      "      \"clean_test/NEON_D13_NIWO_DP1_L019-1_20230815_directional_reflectance/NEON_D13_NIWO_DP1.30006.001_L019-1_20230815_directional_reflectance_ancillary_envi.img\",\n",
      "      5\n",
      "    ],\n",
      "    \"aspect\": [\n",
      "      \"clean_test/NEON_D13_NIWO_DP1_L019-1_20230815_directional_reflectance/NEON_D13_NIWO_DP1.30006.001_L019-1_20230815_directional_reflectance_ancillary_envi.img\",\n",
      "      6\n",
      "    ]\n",
      "  }\n",
      "}\n",
      "\n",
      "📝 BRDF File: clean_test/NEON_D13_NIWO_DP1_L019-1_20230815_directional_reflectance/NEON_D13_NIWO_DP1.30006.001_L019-1_20230815_directional_reflectance_brdfandtopo_corrected_envi.img\n",
      "📝 Coefficients File: clean_test/NEON_D13_NIWO_DP1_L019-1_20230815_directional_reflectance/NEON_D13_NIWO_DP1.30006.001_L019-1_20230815_directional_reflectance_topo_coeffs__corrected_envi.json\n",
      "✅ Skipping existing corrections for clean_test/NEON_D13_NIWO_DP1_L019-1_20230815_directional_reflectance/NEON_D13_NIWO_DP1.30006.001_L019-1_20230815_directional_reflectance_envi.img\n",
      "📝 BRDF File: clean_test/NEON_D13_NIWO_DP1_L019-1_20230815_directional_reflectance/NEON_D13_NIWO_DP1.30006.001_L019-1_20230815_directional_reflectance_brdfandtopo_corrected_envi.img\n",
      "📝 Coefficients File: clean_test/NEON_D13_NIWO_DP1_L019-1_20230815_directional_reflectance/NEON_D13_NIWO_DP1.30006.001_L019-1_20230815_directional_reflectance_brdf_coeffs__corrected_envi.json\n",
      "✅ Skipping existing corrections for clean_test/NEON_D13_NIWO_DP1_L019-1_20230815_directional_reflectance/NEON_D13_NIWO_DP1.30006.001_L019-1_20230815_directional_reflectance_envi.img\n",
      "📦 Exporting correction coefficients...\n",
      "📦 Exporting corrected images...\n",
      "⚙️ Applying corrections to: clean_test/NEON_D13_NIWO_DP1_L020-1_20230815_directional_reflectance/NEON_D13_NIWO_DP1.30006.001_L020-1_20230815_directional_reflectance_envi_config_envi.json\n",
      "🚀 Using 8 CPUs for correction.\n"
     ]
    },
    {
     "name": "stderr",
     "output_type": "stream",
     "text": [
      "2025-10-03 18:38:06,012\tWARNING services.py:1996 -- WARNING: The object store is using /tmp instead of /dev/shm because /dev/shm has only 67108864 bytes available. This will harm performance! You may be able to free up space by deleting files in /dev/shm. If you are inside a Docker container, you can increase /dev/shm size by passing '--shm-size=10.24gb' to 'docker run' (or add it to the run_options list in a Ray cluster config). Make sure to set this to more than 30% of available RAM.\n",
      "2025-10-03 18:38:07,068\tINFO worker.py:1673 -- Started a local Ray instance.\n"
     ]
    },
    {
     "name": "stdout",
     "output_type": "stream",
     "text": [
      "📦 Ancillary mapping for HyTools:\n",
      "{\n",
      "  \"clean_test/NEON_D13_NIWO_DP1_L020-1_20230815_directional_reflectance/NEON_D13_NIWO_DP1.30006.001_L020-1_20230815_directional_reflectance_envi.img\": {\n",
      "    \"path_length\": [\n",
      "      \"clean_test/NEON_D13_NIWO_DP1_L020-1_20230815_directional_reflectance/NEON_D13_NIWO_DP1.30006.001_L020-1_20230815_directional_reflectance_ancillary_envi.img\",\n",
      "      0\n",
      "    ],\n",
      "    \"sensor_az\": [\n",
      "      \"clean_test/NEON_D13_NIWO_DP1_L020-1_20230815_directional_reflectance/NEON_D13_NIWO_DP1.30006.001_L020-1_20230815_directional_reflectance_ancillary_envi.img\",\n",
      "      1\n",
      "    ],\n",
      "    \"sensor_zn\": [\n",
      "      \"clean_test/NEON_D13_NIWO_DP1_L020-1_20230815_directional_reflectance/NEON_D13_NIWO_DP1.30006.001_L020-1_20230815_directional_reflectance_ancillary_envi.img\",\n",
      "      2\n",
      "    ],\n",
      "    \"solar_az\": [\n",
      "      \"clean_test/NEON_D13_NIWO_DP1_L020-1_20230815_directional_reflectance/NEON_D13_NIWO_DP1.30006.001_L020-1_20230815_directional_reflectance_ancillary_envi.img\",\n",
      "      3\n",
      "    ],\n",
      "    \"solar_zn\": [\n",
      "      \"clean_test/NEON_D13_NIWO_DP1_L020-1_20230815_directional_reflectance/NEON_D13_NIWO_DP1.30006.001_L020-1_20230815_directional_reflectance_ancillary_envi.img\",\n",
      "      4\n",
      "    ],\n",
      "    \"slope\": [\n",
      "      \"clean_test/NEON_D13_NIWO_DP1_L020-1_20230815_directional_reflectance/NEON_D13_NIWO_DP1.30006.001_L020-1_20230815_directional_reflectance_ancillary_envi.img\",\n",
      "      5\n",
      "    ],\n",
      "    \"aspect\": [\n",
      "      \"clean_test/NEON_D13_NIWO_DP1_L020-1_20230815_directional_reflectance/NEON_D13_NIWO_DP1.30006.001_L020-1_20230815_directional_reflectance_ancillary_envi.img\",\n",
      "      6\n",
      "    ]\n",
      "  }\n",
      "}\n",
      "\n",
      "📝 BRDF File: clean_test/NEON_D13_NIWO_DP1_L020-1_20230815_directional_reflectance/NEON_D13_NIWO_DP1.30006.001_L020-1_20230815_directional_reflectance_brdfandtopo_corrected_envi.img\n",
      "📝 Coefficients File: clean_test/NEON_D13_NIWO_DP1_L020-1_20230815_directional_reflectance/NEON_D13_NIWO_DP1.30006.001_L020-1_20230815_directional_reflectance_topo_coeffs__corrected_envi.json\n",
      "✅ Skipping existing corrections for clean_test/NEON_D13_NIWO_DP1_L020-1_20230815_directional_reflectance/NEON_D13_NIWO_DP1.30006.001_L020-1_20230815_directional_reflectance_envi.img\n",
      "📝 BRDF File: clean_test/NEON_D13_NIWO_DP1_L020-1_20230815_directional_reflectance/NEON_D13_NIWO_DP1.30006.001_L020-1_20230815_directional_reflectance_brdfandtopo_corrected_envi.img\n",
      "📝 Coefficients File: clean_test/NEON_D13_NIWO_DP1_L020-1_20230815_directional_reflectance/NEON_D13_NIWO_DP1.30006.001_L020-1_20230815_directional_reflectance_brdf_coeffs__corrected_envi.json\n",
      "✅ Skipping existing corrections for clean_test/NEON_D13_NIWO_DP1_L020-1_20230815_directional_reflectance/NEON_D13_NIWO_DP1.30006.001_L020-1_20230815_directional_reflectance_envi.img\n",
      "📦 Exporting correction coefficients...\n",
      "📦 Exporting corrected images...\n",
      "\u001b[36m(HyTools pid=43747)\u001b[0m 📦 Writing correction masks: clean_test/NEON_D13_NIWO_DP1_L020-1_20230815_directional_reflectance/NEON_D13_NIWO_DP1.30006.001_L020-1_20230815_directional_reflectance_brdfandtopo_corrected_mask_envi.img\n",
      "✅ All corrections applied.\n",
      "\n",
      "🔁 Resampling and translating data...\n",
      "📂 Found 4 BRDF-corrected files to process.\n",
      "🔄 [1/4] Resampling: NEON_D13_NIWO_DP1.30006.001_L019-1_20230815_directional_reflectance_brdfandtopo_corrected_envi.img\n",
      "🚀 Starting convolutional resample for clean_test/NEON_D13_NIWO_DP1_L019-1_20230815_directional_reflectance\n",
      "📂 Opening: clean_test/NEON_D13_NIWO_DP1_L019-1_20230815_directional_reflectance/NEON_D13_NIWO_DP1.30006.001_L019-1_20230815_directional_reflectance_brdfandtopo_corrected_envi.hdr\n",
      "✅ Resampled file saved: clean_test/NEON_D13_NIWO_DP1_L019-1_20230815_directional_reflectance/Convolution_Reflectance_Resample_Landsat_5_TM/NEON_D13_NIWO_DP1.30006.001_L019-1_20230815_directional_resampled_Landsat_5_TM_envi.hdr\n",
      "✅ Resampled file saved: clean_test/NEON_D13_NIWO_DP1_L019-1_20230815_directional_reflectance/Convolution_Reflectance_Resample_Landsat_7_ETM+/NEON_D13_NIWO_DP1.30006.001_L019-1_20230815_directional_resampled_Landsat_7_ETM+_envi.hdr\n"
     ]
    },
    {
     "name": "stderr",
     "output_type": "stream",
     "text": [
      "\n",
      "KeyboardInterrupt\n",
      "\n"
     ]
    }
   ],
   "source": [
    "from pathlib import Path\n",
    "from src.envi_download import download_neon_flight_lines\n",
    "from src.neon_to_envi import neon_to_envi\n",
    "from src.topo_and_brdf_correction import generate_config_json, topo_and_brdf_correction\n",
    "from src.file_types import NEONReflectanceConfigFile\n",
    "\n",
    "# Inputs\n",
    "base_folder = Path(\"clean_test\")\n",
    "site_code = \"NIWO\"\n",
    "product_code = \"DP1.30006.001\"\n",
    "year_month = \"2023-08\"\n",
    "flight_lines = [\n",
    "    \"NEON_D13_NIWO_DP1_L019-1_20230815_directional_reflectance\",\n",
    "    \"NEON_D13_NIWO_DP1_L020-1_20230815_directional_reflectance\"\n",
    "]\n",
    "\n",
    "#Step 1: Download NEON flight lines\n",
    "print(\"📥 Downloading NEON flight lines...\")\n",
    "download_neon_flight_lines(\n",
    "    out_dir=base_folder,\n",
    "    site_code=site_code,\n",
    "    product_code=product_code,\n",
    "    year_month=year_month,\n",
    "    flight_lines=flight_lines\n",
    ")\n",
    "print(\"✅ Download complete.\\n\")\n",
    "\n",
    "# Step 2: Convert H5 to ENVI format (direct call to neon_to_envi)\n",
    "print(\"📦 Converting H5 files to ENVI format...\")\n",
    "h5_files = list(base_folder.rglob(\"*.h5\"))\n",
    "if not h5_files:\n",
    "    print(\"❌ No .h5 files found for conversion.\")\n",
    "else:\n",
    "    for i, h5_file in enumerate(h5_files, start=1):\n",
    "        print(f\"🔄 [{i}/{len(h5_files)}] Converting: {h5_file.name}\")\n",
    "        neon_to_envi(\n",
    "            images=[str(h5_file)],\n",
    "            output_dir=str(base_folder),\n",
    "            anc=True\n",
    "        )\n",
    "        print(f\"✅ Finished: {h5_file.name}\\n\")\n",
    "print(\"✅ ENVI conversion complete.\\n\")\n",
    "\n",
    "# Step 3: Generate configuration JSON\n",
    "print(\"📝 Generating configuration JSON...\")\n",
    "generate_config_json(base_folder)\n",
    "print(\"✅ Config JSON generation complete.\\n\")\n",
    "\n",
    "# Step 4: Apply topographic and BRDF corrections\n",
    "print(\"⛰️ Applying topographic and BRDF corrections...\")\n",
    "\n",
    "# Find all JSON config files\n",
    "config_files = NEONReflectanceConfigFile.find_in_directory(Path(base_folder))\n",
    "\n",
    "if config_files:\n",
    "    for config_file in config_files:\n",
    "        print(f\"⚙️ Applying corrections to: {config_file.file_path}\")\n",
    "        topo_and_brdf_correction(str(config_file.file_path))\n",
    "    print(\"✅ All corrections applied.\\n\")\n",
    "else:\n",
    "    print(\"❌ No configuration JSON files found. Skipping corrections.\")\n",
    "\n",
    "from src.convolution_resample import resample\n",
    "from src.file_types import NEONReflectanceBRDFCorrectedENVIFile\n",
    "\n",
    "# Step 5: Resample and translate data to other sensor formats\n",
    "print(\"🔁 Resampling and translating data...\")\n",
    "\n",
    "# Find all BRDF-corrected ENVI files in the base folder\n",
    "corrected_files = NEONReflectanceBRDFCorrectedENVIFile.find_in_directory(base_folder)\n",
    "if not corrected_files:\n",
    "    print(\"❌ No BRDF-corrected ENVI files found for resampling. Check naming or previous steps.\")\n",
    "else:\n",
    "    print(f\"📂 Found {len(corrected_files)} BRDF-corrected files to process.\")\n",
    "    for i, corrected_file in enumerate(corrected_files, start=1):\n",
    "        print(f\"🔄 [{i}/{len(corrected_files)}] Resampling: {corrected_file.name}\")\n",
    "        resample(corrected_file.directory)\n",
    "        print(f\"✅ Resampled: {corrected_file.name}\\n\")\n",
    "\n",
    "print(\"✅ Resampling and translation complete.\\n\")\n",
    "\n",
    "\n",
    "\n",
    "print(\"🎉 Pipeline complete!\")\n"
   ]
  },
  {
   "cell_type": "code",
   "execution_count": 3,
   "id": "2ab97059-4ea1-4596-bb78-75faeb977290",
   "metadata": {},
   "outputs": [
    {
     "name": "stdout",
     "output_type": "stream",
     "text": [
      "Obtaining file:///home/jovyan/data-store/cross-sensor-cal\n",
      "  Installing build dependencies ... \u001b[?25ldone\n",
      "\u001b[?25h  Checking if build backend supports build_editable ... \u001b[?25ldone\n",
      "\u001b[?25h  Getting requirements to build editable ... \u001b[?25ldone\n",
      "\u001b[?25h  Preparing editable metadata (pyproject.toml) ... \u001b[?25ldone\n",
      "\u001b[?25hBuilding wheels for collected packages: cross_sensor_cal\n",
      "  Building editable for cross_sensor_cal (pyproject.toml) ... \u001b[?25ldone\n",
      "\u001b[?25h  Created wheel for cross_sensor_cal: filename=cross_sensor_cal-0.1.0-0.editable-py3-none-any.whl size=27465 sha256=3f85128303030bec6e45e0888944f7ebf396c09b45d225fecac1377ee852eb6e\n",
      "  Stored in directory: /tmp/pip-ephem-wheel-cache-bqrde3x4/wheels/18/70/06/063f1fc66efdafe44297ee2e506086a9ff3bc04776dd2148a3\n",
      "Successfully built cross_sensor_cal\n",
      "Installing collected packages: cross_sensor_cal\n",
      "  Attempting uninstall: cross_sensor_cal\n",
      "    Found existing installation: cross_sensor_cal 0.1.0\n",
      "    Uninstalling cross_sensor_cal-0.1.0:\n",
      "      Successfully uninstalled cross_sensor_cal-0.1.0\n",
      "Successfully installed cross_sensor_cal-0.1.0\n",
      "Note: you may need to restart the kernel to use updated packages.\n"
     ]
    }
   ],
   "source": [
    "pip install -e ."
   ]
  },
  {
   "cell_type": "code",
   "execution_count": 2,
   "id": "0d3991ff-9bf8-408a-97c5-565aeea05052",
   "metadata": {},
   "outputs": [
    {
     "name": "stdout",
     "output_type": "stream",
     "text": [
      "⏭️  Skipped: download already present (2)\n"
     ]
    },
    {
     "name": "stderr",
     "output_type": "stream",
     "text": [
      "L019-1           0%|          | 0/1 steps\n",
      "                                         \u001b[A\n",
      "L019-1         100%|██████████| 1/1 steps\n",
      "                                         \u001b[A\n",
      "L019-1         100%|██████████| 2/2 steps\n",
      "L020-1         100%|██████████| 1/1 steps\u001b[A\n",
      "                                         \u001b[A\n",
      "L019-1         100%|██████████| 2/2 steps\n",
      "L019-1          67%|██████▋   | 2/3 steps\u001b[A\n",
      "                                         \u001b[A\n",
      "L019-1          75%|███████▌  | 3/4 steps\n",
      "L020-1         100%|██████████| 3/3 steps\u001b[A\n",
      "                                         \u001b[A\n",
      "L019-1         100%|██████████| 4/4 steps\n",
      "L019-1          80%|████████  | 4/5 steps\u001b[A"
     ]
    },
    {
     "name": "stdout",
     "output_type": "stream",
     "text": [
      "⏭️  Skipped [L019-1]: ENVI + ancillary already exported (1)\n",
      "⏭️  Skipped [L020-1]: ENVI + ancillary already exported (1)\n",
      "⏭️  Skipped: config already present (2)\n",
      "⏭️  Skipped [L019-1]: BRDF+topo correction already present (2)\n",
      "⏭️  Skipped [L020-1]: BRDF+topo correction already present (2)\n",
      "🚀 Starting convolutional resample for output_test/NEON_D13_NIWO_DP1_L019-1_20230815_directional_reflectance\n",
      "📂 Opening: output_test/NEON_D13_NIWO_DP1_L019-1_20230815_directional_reflectance/NEON_D13_NIWO_DP1.30006.001_L019-1_20230815_directional_reflectance_brdfandtopo_corrected_envi.hdr\n",
      "✅ Resampled file saved: output_test/NEON_D13_NIWO_DP1_L019-1_20230815_directional_reflectance/Convolution_Reflectance_Resample_Landsat_5_TM/NEON_D13_NIWO_DP1.30006.001_L019-1_20230815_directional_resampled_Landsat_5_TM_envi.hdr\n",
      "✅ Resampled file saved: output_test/NEON_D13_NIWO_DP1_L019-1_20230815_directional_reflectance/Convolution_Reflectance_Resample_Landsat_7_ETM+/NEON_D13_NIWO_DP1.30006.001_L019-1_20230815_directional_resampled_Landsat_7_ETM+_envi.hdr\n",
      "✅ Resampled file saved: output_test/NEON_D13_NIWO_DP1_L019-1_20230815_directional_reflectance/Convolution_Reflectance_Resample_Landsat_8_OLI/NEON_D13_NIWO_DP1.30006.001_L019-1_20230815_directional_resampled_Landsat_8_OLI_envi.hdr\n",
      "✅ Resampled file saved: output_test/NEON_D13_NIWO_DP1_L019-1_20230815_directional_reflectance/Convolution_Reflectance_Resample_Landsat_9_OLI-2/NEON_D13_NIWO_DP1.30006.001_L019-1_20230815_directional_resampled_Landsat_9_OLI-2_envi.hdr\n",
      "✅ Resampled file saved: output_test/NEON_D13_NIWO_DP1_L019-1_20230815_directional_reflectance/Convolution_Reflectance_Resample_MicaSense/NEON_D13_NIWO_DP1.30006.001_L019-1_20230815_directional_resampled_MicaSense_envi.hdr\n",
      "✅ Resampled file saved: output_test/NEON_D13_NIWO_DP1_L019-1_20230815_directional_reflectance/Convolution_Reflectance_Resample_MicaSense-to-match_TM_and_ETM+/NEON_D13_NIWO_DP1.30006.001_L019-1_20230815_directional_resampled_MicaSense-to-match_TM_and_ETM+_envi.hdr\n"
     ]
    },
    {
     "name": "stderr",
     "output_type": "stream",
     "text": [
      "                                         \n",
      "L019-1          83%|████████▎ | 5/6 steps\n",
      "L020-1         100%|██████████| 4/4 steps\u001b[A\n",
      "L020-1          80%|████████  | 4/5 steps\u001b[A"
     ]
    },
    {
     "name": "stdout",
     "output_type": "stream",
     "text": [
      "✅ Resampled file saved: output_test/NEON_D13_NIWO_DP1_L019-1_20230815_directional_reflectance/Convolution_Reflectance_Resample_MicaSense-to-match_OLI_and_OLI-2/NEON_D13_NIWO_DP1.30006.001_L019-1_20230815_directional_resampled_MicaSense-to-match_OLI_and_OLI-2_envi.hdr\n",
      "ℹ️ Skipping mask file without spectral bands: output_test/NEON_D13_NIWO_DP1_L019-1_20230815_directional_reflectance/NEON_D13_NIWO_DP1.30006.001_L019-1_20230815_directional_reflectance_brdfandtopo_corrected_mask_envi.hdr\n",
      "⏭️  Skipped [NEON_D13_NIWO_DP1.30006.001_L019-1_20230815_directional_reflectance_brdfandtopo_corrected_mask_envi.img]: resampled outputs already present (7)\n",
      "🚀 Starting convolutional resample for output_test/NEON_D13_NIWO_DP1_L020-1_20230815_directional_reflectance\n",
      "📂 Opening: output_test/NEON_D13_NIWO_DP1_L020-1_20230815_directional_reflectance/NEON_D13_NIWO_DP1.30006.001_L020-1_20230815_directional_reflectance_brdfandtopo_corrected_envi.hdr\n",
      "✅ Resampled file saved: output_test/NEON_D13_NIWO_DP1_L020-1_20230815_directional_reflectance/Convolution_Reflectance_Resample_Landsat_5_TM/NEON_D13_NIWO_DP1.30006.001_L020-1_20230815_directional_resampled_Landsat_5_TM_envi.hdr\n",
      "✅ Resampled file saved: output_test/NEON_D13_NIWO_DP1_L020-1_20230815_directional_reflectance/Convolution_Reflectance_Resample_Landsat_7_ETM+/NEON_D13_NIWO_DP1.30006.001_L020-1_20230815_directional_resampled_Landsat_7_ETM+_envi.hdr\n",
      "✅ Resampled file saved: output_test/NEON_D13_NIWO_DP1_L020-1_20230815_directional_reflectance/Convolution_Reflectance_Resample_Landsat_8_OLI/NEON_D13_NIWO_DP1.30006.001_L020-1_20230815_directional_resampled_Landsat_8_OLI_envi.hdr\n",
      "✅ Resampled file saved: output_test/NEON_D13_NIWO_DP1_L020-1_20230815_directional_reflectance/Convolution_Reflectance_Resample_Landsat_9_OLI-2/NEON_D13_NIWO_DP1.30006.001_L020-1_20230815_directional_resampled_Landsat_9_OLI-2_envi.hdr\n",
      "✅ Resampled file saved: output_test/NEON_D13_NIWO_DP1_L020-1_20230815_directional_reflectance/Convolution_Reflectance_Resample_MicaSense/NEON_D13_NIWO_DP1.30006.001_L020-1_20230815_directional_resampled_MicaSense_envi.hdr\n",
      "✅ Resampled file saved: output_test/NEON_D13_NIWO_DP1_L020-1_20230815_directional_reflectance/Convolution_Reflectance_Resample_MicaSense-to-match_TM_and_ETM+/NEON_D13_NIWO_DP1.30006.001_L020-1_20230815_directional_resampled_MicaSense-to-match_TM_and_ETM+_envi.hdr\n",
      "✅ Resampled file saved: output_test/NEON_D13_NIWO_DP1_L020-1_20230815_directional_reflectance/Convolution_Reflectance_Resample_MicaSense-to-match_OLI_and_OLI-2/NEON_D13_NIWO_DP1.30006.001_L020-1_20230815_directional_resampled_MicaSense-to-match_OLI_and_OLI-2_envi.hdr\n"
     ]
    },
    {
     "name": "stderr",
     "output_type": "stream",
     "text": [
      "\n",
      "L019-1         100%|██████████| 6/6 steps\u001b[A\n",
      "L020-1         100%|██████████| 5/5 steps"
     ]
    },
    {
     "name": "stdout",
     "output_type": "stream",
     "text": [
      "🎉 Pipeline complete!\n"
     ]
    },
    {
     "name": "stderr",
     "output_type": "stream",
     "text": [
      "\n"
     ]
    }
   ],
   "source": [
    "from pathlib import Path\n",
    "from bin.jefe import go_forth_and_multiply\n",
    "\n",
    "\n",
    "base_folder = Path(\"output_test\")\n",
    "site_code = \"NIWO\"\n",
    "product_code = \"DP1.30006.001\"\n",
    "year_month = \"2023-08\"\n",
    "flight_lines = [\n",
    "    \"NEON_D13_NIWO_DP1_L019-1_20230815_directional_reflectance\",\n",
    "    \"NEON_D13_NIWO_DP1_L020-1_20230815_directional_reflectance\"\n",
    "]\n",
    "\n",
    "go_forth_and_multiply(\n",
    "    base_folder=base_folder,\n",
    "    site_code=site_code,\n",
    "    year_month=year_month,\n",
    "    flight_lines=flight_lines,\n",
    ")\n"
   ]
  },
  {
   "cell_type": "code",
   "execution_count": null,
   "id": "b853a329-0f71-4f72-a25e-de79be392e8d",
   "metadata": {},
   "outputs": [],
   "source": [
    "import matplotlib.pyplot as plt\n",
    "import numpy as np\n",
    "from spectral import open_image\n",
    "\n",
    "def plot_envi_band(img_path: str, band_index: int = 0, cmap: str = 'gray'):\n",
    "    \"\"\"\n",
    "    Plot a single band from an ENVI .img file.\n",
    "    \n",
    "    Parameters:\n",
    "        img_path (str): Path to the .img file (expects corresponding .hdr next to it).\n",
    "        band_index (int): Index of the band to plot (0-based).\n",
    "        cmap (str): Matplotlib colormap name for grayscale display.\n",
    "    \"\"\"\n",
    "    # Load the image\n",
    "    hdr_path = img_path.replace('.img', '.hdr')\n",
    "    img = open_image(hdr_path)\n",
    "    \n",
    "    # Extract the band\n",
    "    data = np.array(img[:, :, band_index], dtype=float)\n",
    "    \n",
    "    # Plot\n",
    "    plt.figure(figsize=(8, 8))\n",
    "    plt.imshow(data, cmap=cmap)\n",
    "    plt.title(f'ENVI Band {band_index}')\n",
    "    plt.colorbar(label='Reflectance')\n",
    "    plt.axis('off')\n",
    "    plt.show()\n",
    "\n",
    "\n",
    "def plot_envi_rgb(img_path: str, rgb_bands=(29, 19, 9), stretch=(2, 98)):\n",
    "    \"\"\"\n",
    "    Plot an RGB composite from an ENVI .img file by specifying three band indices.\n",
    "    \n",
    "    Parameters:\n",
    "        img_path (str): Path to the .img file (expects corresponding .hdr next to it).\n",
    "        rgb_bands (tuple): Three band indices (R, G, B) to composite.\n",
    "        stretch (tuple): Percentile stretch (e.g., (2,98)) for contrast enhancement.\n",
    "    \"\"\"\n",
    "    hdr_path = img_path.replace('.img', '.hdr')\n",
    "    img = open_image(hdr_path)\n",
    "    \n",
    "    # Read the three bands\n",
    "    rgb = np.array(img[:, :, list(rgb_bands)], dtype=float)\n",
    "    \n",
    "    # Percentile stretch per channel\n",
    "    p_low, p_high = np.percentile(rgb, stretch, axis=(0,1))\n",
    "    rgb = (rgb - p_low) / (p_high - p_low)\n",
    "    rgb = np.clip(rgb, 0, 1)\n",
    "    \n",
    "    plt.figure(figsize=(8, 8))\n",
    "    plt.imshow(rgb)\n",
    "    plt.title(f'RGB Composite (bands {rgb_bands})')\n",
    "    plt.axis('off')\n",
    "    plt.show()\n",
    "\n",
    "\n",
    "img_path = 'later_test/NEON_D13_NIWO_DP1_L019-1_20230815_directional_reflectance/NEON_D13_NIWO_DP1_L019-1_20230815_reflectance_brdfandtopo_corrected_envi.img'\n",
    "plot_envi_band(img_path, band_index=1)"
   ]
  }
 ],
 "metadata": {
  "kernelspec": {
   "display_name": "macrosystems",
   "language": "python",
   "name": "macrosystems"
  },
  "language_info": {
   "codemirror_mode": {
    "name": "ipython",
    "version": 3
   },
   "file_extension": ".py",
   "mimetype": "text/x-python",
   "name": "python",
   "nbconvert_exporter": "python",
   "pygments_lexer": "ipython3",
   "version": "3.10.13"
  }
 },
 "nbformat": 4,
 "nbformat_minor": 5
}
